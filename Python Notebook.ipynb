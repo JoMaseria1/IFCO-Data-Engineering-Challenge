{
 "cells": [
  {
   "cell_type": "markdown",
   "metadata": {
    "application/vnd.databricks.v1+cell": {
     "cellMetadata": {
      "byteLimit": 2048000,
      "rowLimit": 10000
     },
     "inputWidgets": {},
     "nuid": "eb87cfcb-b100-46c8-8795-446d50393402",
     "showTitle": false,
     "tableResultSettingsMap": {},
     "title": ""
    }
   },
   "source": [
    "# Load Orders.csv"
   ]
  },
  {
   "cell_type": "code",
   "execution_count": 64,
   "metadata": {},
   "outputs": [
    {
     "name": "stdout",
     "output_type": "stream",
     "text": [
      "Requirement already satisfied: pyspark in c:\\users\\mouba\\appdata\\local\\programs\\python\\python312\\lib\\site-packages (3.5.3)\n",
      "Requirement already satisfied: py4j==0.10.9.7 in c:\\users\\mouba\\appdata\\local\\programs\\python\\python312\\lib\\site-packages (from pyspark) (0.10.9.7)\n",
      "Note: you may need to restart the kernel to use updated packages.\n"
     ]
    }
   ],
   "source": [
    "pip install pyspark"
   ]
  },
  {
   "cell_type": "code",
   "execution_count": 65,
   "metadata": {},
   "outputs": [
    {
     "name": "stdout",
     "output_type": "stream",
     "text": [
      "Requirement already satisfied: requests in c:\\users\\mouba\\appdata\\local\\programs\\python\\python312\\lib\\site-packages (2.32.3)\n",
      "Requirement already satisfied: charset-normalizer<4,>=2 in c:\\users\\mouba\\appdata\\local\\programs\\python\\python312\\lib\\site-packages (from requests) (3.4.0)\n",
      "Requirement already satisfied: idna<4,>=2.5 in c:\\users\\mouba\\appdata\\local\\programs\\python\\python312\\lib\\site-packages (from requests) (3.10)\n",
      "Requirement already satisfied: urllib3<3,>=1.21.1 in c:\\users\\mouba\\appdata\\local\\programs\\python\\python312\\lib\\site-packages (from requests) (2.2.3)\n",
      "Requirement already satisfied: certifi>=2017.4.17 in c:\\users\\mouba\\appdata\\local\\programs\\python\\python312\\lib\\site-packages (from requests) (2024.12.14)\n",
      "Note: you may need to restart the kernel to use updated packages.\n"
     ]
    }
   ],
   "source": [
    "pip install requests\n"
   ]
  },
  {
   "cell_type": "code",
   "execution_count": 66,
   "metadata": {},
   "outputs": [
    {
     "name": "stdout",
     "output_type": "stream",
     "text": [
      "Requirement already satisfied: pandas in c:\\users\\mouba\\appdata\\local\\programs\\python\\python312\\lib\\site-packages (2.2.3)\n",
      "Requirement already satisfied: numpy>=1.26.0 in c:\\users\\mouba\\appdata\\local\\programs\\python\\python312\\lib\\site-packages (from pandas) (2.2.0)\n",
      "Requirement already satisfied: python-dateutil>=2.8.2 in c:\\users\\mouba\\appdata\\roaming\\python\\python312\\site-packages (from pandas) (2.9.0.post0)\n",
      "Requirement already satisfied: pytz>=2020.1 in c:\\users\\mouba\\appdata\\local\\programs\\python\\python312\\lib\\site-packages (from pandas) (2024.2)\n",
      "Requirement already satisfied: tzdata>=2022.7 in c:\\users\\mouba\\appdata\\local\\programs\\python\\python312\\lib\\site-packages (from pandas) (2024.2)\n",
      "Requirement already satisfied: six>=1.5 in c:\\users\\mouba\\appdata\\roaming\\python\\python312\\site-packages (from python-dateutil>=2.8.2->pandas) (1.17.0)\n",
      "Note: you may need to restart the kernel to use updated packages.\n"
     ]
    }
   ],
   "source": [
    "pip install pandas"
   ]
  },
  {
   "cell_type": "code",
   "execution_count": 67,
   "metadata": {},
   "outputs": [
    {
     "name": "stdout",
     "output_type": "stream",
     "text": [
      "Requirement already satisfied: disutils in c:\\users\\mouba\\appdata\\local\\programs\\python\\python312\\lib\\site-packages (1.4.32.post2)\n",
      "Requirement already satisfied: aiohttp in c:\\users\\mouba\\appdata\\local\\programs\\python\\python312\\lib\\site-packages (from disutils) (3.11.10)\n",
      "Requirement already satisfied: asyncio in c:\\users\\mouba\\appdata\\local\\programs\\python\\python312\\lib\\site-packages (from disutils) (3.4.3)\n",
      "Requirement already satisfied: aiohappyeyeballs>=2.3.0 in c:\\users\\mouba\\appdata\\local\\programs\\python\\python312\\lib\\site-packages (from aiohttp->disutils) (2.4.4)\n",
      "Requirement already satisfied: aiosignal>=1.1.2 in c:\\users\\mouba\\appdata\\local\\programs\\python\\python312\\lib\\site-packages (from aiohttp->disutils) (1.3.2)\n",
      "Requirement already satisfied: attrs>=17.3.0 in c:\\users\\mouba\\appdata\\local\\programs\\python\\python312\\lib\\site-packages (from aiohttp->disutils) (24.2.0)\n",
      "Requirement already satisfied: frozenlist>=1.1.1 in c:\\users\\mouba\\appdata\\local\\programs\\python\\python312\\lib\\site-packages (from aiohttp->disutils) (1.5.0)\n",
      "Requirement already satisfied: multidict<7.0,>=4.5 in c:\\users\\mouba\\appdata\\local\\programs\\python\\python312\\lib\\site-packages (from aiohttp->disutils) (6.1.0)\n",
      "Requirement already satisfied: propcache>=0.2.0 in c:\\users\\mouba\\appdata\\local\\programs\\python\\python312\\lib\\site-packages (from aiohttp->disutils) (0.2.1)\n",
      "Requirement already satisfied: yarl<2.0,>=1.17.0 in c:\\users\\mouba\\appdata\\local\\programs\\python\\python312\\lib\\site-packages (from aiohttp->disutils) (1.18.3)\n",
      "Requirement already satisfied: idna>=2.0 in c:\\users\\mouba\\appdata\\local\\programs\\python\\python312\\lib\\site-packages (from yarl<2.0,>=1.17.0->aiohttp->disutils) (3.10)\n",
      "Note: you may need to restart the kernel to use updated packages.\n"
     ]
    }
   ],
   "source": [
    "pip install disutils"
   ]
  },
  {
   "cell_type": "code",
   "execution_count": 68,
   "metadata": {},
   "outputs": [
    {
     "name": "stdout",
     "output_type": "stream",
     "text": [
      "Note: you may need to restart the kernel to use updated packages.\n"
     ]
    },
    {
     "name": "stderr",
     "output_type": "stream",
     "text": [
      "ERROR: Could not find a version that satisfies the requirement python3-distutils (from versions: none)\n",
      "ERROR: No matching distribution found for python3-distutils\n"
     ]
    }
   ],
   "source": [
    "pip install python3-distutils"
   ]
  },
  {
   "cell_type": "code",
   "execution_count": 69,
   "metadata": {},
   "outputs": [
    {
     "name": "stdout",
     "output_type": "stream",
     "text": [
      "Archivo descargado en: c:\\Users\\mouba\\Desktop\\orders.csv\n",
      "+------------------------------------+--------+------------------------------------+---------------------+----------+---------------------------------------------------------------------------------------------------------------+------------------------------------------------------------+\n",
      "|order_id                            |date    |company_id                          |company_name         |crate_type|contact_data                                                                                                   |salesowners                                                 |\n",
      "+------------------------------------+--------+------------------------------------+---------------------+----------+---------------------------------------------------------------------------------------------------------------+------------------------------------------------------------+\n",
      "|f47ac10b-58cc-4372-a567-0e02b2c3d479|29.01.22|1e2b47e6-499e-41c6-91d3-09d12dddfbbd|Fresh Fruits Co      |Plastic   |\"[{ \"\"contact_name\"\":\"\"Curtis\"\", \"\"contact_surname\"\":\"\"Jackson\"\", \"\"city\"\":\"\"Chicago\"\", \"\"cp\"\": \"\"12345\"\"}]\"   |Leonard Cohen, Luke Skywalker, Ammy Winehouse               |\n",
      "|f47ac10b-58cc-4372-a567-0e02b2c3d480|21.02.22|0f05a8f1-2bdf-4be7-8c82-4c9b58f04898|Veggies Inc          |Wood      |\"[{ \"\"contact_name\"\":\"\"Maria\"\", \"\"contact_surname\"\":\"\"Theresa\"\", \"\"city\"\":\"\"Calcutta\"\"}]\"                      |Luke Skywalker, David Goliat, Leon Leonov                   |\n",
      "|f47ac10b-58cc-4372-a567-0e02b2c3d481|03.04.22|1e2b47e6-499e-41c6-91d3-09d12dddfbbd|Fresh Fruits c.o     |Metal     |\"[{ \"\"contact_name\"\":\"\"Para\"\", \"\"contact_surname\"\":\"\"Cetamol\"\", \"\"city\"\":\"\"Frankfurt am Oder\"\", \"\"cp\"\": 3934}]\"|Luke Skywalker                                              |\n",
      "|f47ac10b-58cc-4372-a567-0e02b2c3d482|14.07.21|1c4b0b50-1d5d-463a-b56e-1a6fd3aeb7d6|Seafood Supplier     |Plastic   |NULL                                                                                                           |David Goliat, Leonard Cohen                                 |\n",
      "|f47ac10b-58cc-4372-a567-0e02b2c3d483|23.10.22|34538e39-cd2e-4641-8d24-3c94146e6f16|Meat Packers Ltd     |Plastic   |NULL                                                                                                           |Chris Pratt, David Henderson, Marianov Merschik, Leon Leonov|\n",
      "|f47ac10b-58cc-4372-a567-0e02b2c3d484|15.05.22|fa14c3ed-3c48-49f4-bd69-4d7f5b5f4b1b|Green Veg Co         |Wood      |\"[{ \"\"contact_name\"\":\"\"John\"\", \"\"contact_surname\"\":\"\"Krasinski\"\", \"\"city\"\":\"\"New York\"\", \"\"cp\"\": \"\"1203\"\"}]\"   |Leonard Cohen, David Henderson                              |\n",
      "|f47ac10b-58cc-4372-a567-0e02b2c3d485|31.12.22|2e90f2b1-d237-47a6-96e8-6d01c0d78c3e|Seafood Supplier GmbH|Metal     |NULL                                                                                                           |Markus Söder, Ammy Winehouse                                |\n",
      "|f47ac10b-58cc-4372-a567-0e02b2c3d486|01.04.22|acdb6f30-764f-404e-8b8e-7e7e3e6fa1a9|Organic Farms        |Metal     |\"[{ \"\"contact_name\"\":\"\"Jennifer\"\", \"\"contact_surname\"\":\"\"Lopez\"\", \"\"city\"\":\"\"Esplugues de Llobregat\"\"}]\"       |David Henderson, Leonard Cohen, Leon Leonov                 |\n",
      "|f47ac10b-58cc-4372-a567-0e02b2c3d487|04.09.22|5f0bdbdf-1d84-4c23-957c-8bb8c0ddc89d|Tropical Fruits Ltd  |Plastic   |\"{ \"\"contact_name\"\":\"\"Liav\"\", \"\"contact_surname\"\": \"\"Ichenbaum\"\", \"\"city\"\":\"\"Tel Aviv\"\"}\"                      |Yuri Gagarin, David Goliat, David Henderson                 |\n",
      "|f47ac10b-58cc-4372-a567-0e02b2c3d488|07.11.22|27c59f76-5d26-4b82-a89b-59f8dfd2e9a7|Healthy Snacks       |Plastic   |\"[{ \"\"contact_name\"\":\"\"Curtis\"\", \"\"contact_surname\"\":\"\"Jackson\"\", \"\"city\"\":\"\"Chicago\"\", \"\"cp\"\": \"\"12345\"\"}]\"   |Ammy Winehouse, Marie Curie, Chris Pratt                    |\n",
      "+------------------------------------+--------+------------------------------------+---------------------+----------+---------------------------------------------------------------------------------------------------------------+------------------------------------------------------------+\n",
      "only showing top 10 rows\n",
      "\n"
     ]
    }
   ],
   "source": [
    "import os\n",
    "from pyspark.sql import SparkSession\n",
    "import requests\n",
    "\n",
    "# Crear la sesión de Spark\n",
    "spark = SparkSession.builder.appName(\"Spark\").getOrCreate()\n",
    "\n",
    "# URL del archivo CSV\n",
    "url = \"https://raw.githubusercontent.com/Digital-IFCO/data-engineering-test/refs/heads/main/resources/orders.csv\"\n",
    "\n",
    "# Descargar el archivo CSV a una ubicación local\n",
    "csv_path = os.path.join(os.getcwd(), \"orders.csv\")\n",
    "response = requests.get(url)\n",
    "if response.status_code == 200:\n",
    "    with open(csv_path, 'wb') as f:\n",
    "        f.write(response.content)\n",
    "    print(f\"Archivo descargado en: {csv_path}\")\n",
    "else:\n",
    "    print(f\"Error al descargar el archivo. Código de estado: {response.status_code}\")\n",
    "    exit()\n",
    "\n",
    "# Leer el archivo CSV directamente como un DataFrame de Spark, con el delimitador correcto\n",
    "orders_df = spark.read.csv(csv_path, sep=';', header=True, inferSchema=True)\n",
    "\n",
    "# Mostrar las primeras filas del DataFrame de Spark\n",
    "orders_df.show(10, truncate=False)"
   ]
  },
  {
   "cell_type": "code",
   "execution_count": 70,
   "metadata": {
    "application/vnd.databricks.v1+cell": {
     "cellMetadata": {
      "byteLimit": 2048000,
      "rowLimit": 10000
     },
     "inputWidgets": {},
     "nuid": "694026a3-0025-4827-a096-11793e4a5da8",
     "showTitle": false,
     "tableResultSettingsMap": {},
     "title": ""
    }
   },
   "outputs": [
    {
     "name": "stdout",
     "output_type": "stream",
     "text": [
      "+---------------------------------------------------------------------------------------------------------------+\n",
      "|contact_data                                                                                                   |\n",
      "+---------------------------------------------------------------------------------------------------------------+\n",
      "|\"[{ \"\"contact_name\"\":\"\"Curtis\"\", \"\"contact_surname\"\":\"\"Jackson\"\", \"\"city\"\":\"\"Chicago\"\", \"\"cp\"\": \"\"12345\"\"}]\"   |\n",
      "|\"[{ \"\"contact_name\"\":\"\"Maria\"\", \"\"contact_surname\"\":\"\"Theresa\"\", \"\"city\"\":\"\"Calcutta\"\"}]\"                      |\n",
      "|\"[{ \"\"contact_name\"\":\"\"Para\"\", \"\"contact_surname\"\":\"\"Cetamol\"\", \"\"city\"\":\"\"Frankfurt am Oder\"\", \"\"cp\"\": 3934}]\"|\n",
      "|NULL                                                                                                           |\n",
      "|NULL                                                                                                           |\n",
      "|\"[{ \"\"contact_name\"\":\"\"John\"\", \"\"contact_surname\"\":\"\"Krasinski\"\", \"\"city\"\":\"\"New York\"\", \"\"cp\"\": \"\"1203\"\"}]\"   |\n",
      "|NULL                                                                                                           |\n",
      "|\"[{ \"\"contact_name\"\":\"\"Jennifer\"\", \"\"contact_surname\"\":\"\"Lopez\"\", \"\"city\"\":\"\"Esplugues de Llobregat\"\"}]\"       |\n",
      "|\"{ \"\"contact_name\"\":\"\"Liav\"\", \"\"contact_surname\"\": \"\"Ichenbaum\"\", \"\"city\"\":\"\"Tel Aviv\"\"}\"                      |\n",
      "|\"[{ \"\"contact_name\"\":\"\"Curtis\"\", \"\"contact_surname\"\":\"\"Jackson\"\", \"\"city\"\":\"\"Chicago\"\", \"\"cp\"\": \"\"12345\"\"}]\"   |\n",
      "+---------------------------------------------------------------------------------------------------------------+\n",
      "only showing top 10 rows\n",
      "\n"
     ]
    }
   ],
   "source": [
    "# Since contact_data is a nested column, let's explore it\n",
    "orders_df.select(\"contact_data\").show(10, truncate=False)"
   ]
  },
  {
   "cell_type": "code",
   "execution_count": 71,
   "metadata": {
    "application/vnd.databricks.v1+cell": {
     "cellMetadata": {
      "byteLimit": 2048000,
      "rowLimit": 10000
     },
     "inputWidgets": {},
     "nuid": "5144bbf0-3188-40e7-bd4d-e5205a5049ca",
     "showTitle": false,
     "tableResultSettingsMap": {},
     "title": ""
    }
   },
   "outputs": [
    {
     "name": "stdout",
     "output_type": "stream",
     "text": [
      "+-----------------------------------------------------------------------------------------------+\n",
      "|contact_data                                                                                   |\n",
      "+-----------------------------------------------------------------------------------------------+\n",
      "|[{ \"contact_name\":\"Curtis\", \"contact_surname\":\"Jackson\", \"city\":\"Chicago\", \"cp\": \"12345\"}]     |\n",
      "|[{ \"contact_name\":\"Maria\", \"contact_surname\":\"Theresa\", \"city\":\"Calcutta\"}]                    |\n",
      "|[{ \"contact_name\":\"Para\", \"contact_surname\":\"Cetamol\", \"city\":\"Frankfurt am Oder\", \"cp\": 3934}]|\n",
      "|NULL                                                                                           |\n",
      "|NULL                                                                                           |\n",
      "|[{ \"contact_name\":\"John\", \"contact_surname\":\"Krasinski\", \"city\":\"New York\", \"cp\": \"1203\"}]     |\n",
      "|NULL                                                                                           |\n",
      "|[{ \"contact_name\":\"Jennifer\", \"contact_surname\":\"Lopez\", \"city\":\"Esplugues de Llobregat\"}]     |\n",
      "|{ \"contact_name\":\"Liav\", \"contact_surname\": \"Ichenbaum\", \"city\":\"Tel Aviv\"}                    |\n",
      "|[{ \"contact_name\":\"Curtis\", \"contact_surname\":\"Jackson\", \"city\":\"Chicago\", \"cp\": \"12345\"}]     |\n",
      "+-----------------------------------------------------------------------------------------------+\n",
      "only showing top 10 rows\n",
      "\n"
     ]
    }
   ],
   "source": [
    "from pyspark.sql.functions import regexp_replace, col, ArrayType, StructType, from_json\n",
    "from pyspark.sql.types import StructField, StructType, StringType, IntegerType\n",
    "\n",
    "# Step 1: Replace escaped double quotes\n",
    "orders_df = orders_df.withColumn(\"contact_data\", \n",
    "                                 regexp_replace(col(\"contact_data\"), r'\"\"', '\"'))\n",
    "\n",
    "# Step 2: Replace the quotes at the beginning and end of the JSON string that might be incorrect\n",
    "orders_df = orders_df.withColumn(\"contact_data\", \n",
    "                                 regexp_replace(col(\"contact_data\"), r'^\"|\"$', '')) \n",
    "\n",
    "# Step 3: Check if the changes to contact_data are correct\n",
    "orders_df.select(\"contact_data\").show(10, truncate=False)  # Display the first 10 rows of the 'contact_data' column to verify\n",
    "\n",
    "# Step 4: Define the schema for contact_data\n",
    "contact_data_schema = ArrayType(\n",
    "    StructType([  # Define an array of structures for 'contact_data'\n",
    "        StructField(\"contact_name\", StringType(), True),  # 'contact_name' field of type String\n",
    "        StructField(\"contact_surname\", StringType(), True),  # 'contact_surname' field of type String\n",
    "        StructField(\"city\", StringType(), True),  # 'city' field of type String\n",
    "        StructField(\"cp\", StringType(), True)  # 'cp' field of type String\n",
    "    ])\n",
    ")\n"
   ]
  },
  {
   "cell_type": "code",
   "execution_count": 72,
   "metadata": {
    "application/vnd.databricks.v1+cell": {
     "cellMetadata": {
      "byteLimit": 2048000,
      "rowLimit": 10000
     },
     "inputWidgets": {},
     "nuid": "3456010d-1360-44e5-83f8-f0d652ae88f8",
     "showTitle": false,
     "tableResultSettingsMap": {},
     "title": ""
    }
   },
   "outputs": [
    {
     "name": "stdout",
     "output_type": "stream",
     "text": [
      "+-----------------------------------------------------------------------------------------------+-------------------------------------------------+\n",
      "|contact_data                                                                                   |parsed_contact_data                              |\n",
      "+-----------------------------------------------------------------------------------------------+-------------------------------------------------+\n",
      "|[{ \"contact_name\":\"Curtis\", \"contact_surname\":\"Jackson\", \"city\":\"Chicago\", \"cp\": \"12345\"}]     |[{Curtis, Jackson, Chicago, 12345}]              |\n",
      "|[{ \"contact_name\":\"Maria\", \"contact_surname\":\"Theresa\", \"city\":\"Calcutta\"}]                    |[{Maria, Theresa, Calcutta, NULL}]               |\n",
      "|[{ \"contact_name\":\"Para\", \"contact_surname\":\"Cetamol\", \"city\":\"Frankfurt am Oder\", \"cp\": 3934}]|[{Para, Cetamol, Frankfurt am Oder, 3934}]       |\n",
      "|NULL                                                                                           |NULL                                             |\n",
      "|NULL                                                                                           |NULL                                             |\n",
      "|[{ \"contact_name\":\"John\", \"contact_surname\":\"Krasinski\", \"city\":\"New York\", \"cp\": \"1203\"}]     |[{John, Krasinski, New York, 1203}]              |\n",
      "|NULL                                                                                           |NULL                                             |\n",
      "|[{ \"contact_name\":\"Jennifer\", \"contact_surname\":\"Lopez\", \"city\":\"Esplugues de Llobregat\"}]     |[{Jennifer, Lopez, Esplugues de Llobregat, NULL}]|\n",
      "|{ \"contact_name\":\"Liav\", \"contact_surname\": \"Ichenbaum\", \"city\":\"Tel Aviv\"}                    |[{Liav, Ichenbaum, Tel Aviv, NULL}]              |\n",
      "|[{ \"contact_name\":\"Curtis\", \"contact_surname\":\"Jackson\", \"city\":\"Chicago\", \"cp\": \"12345\"}]     |[{Curtis, Jackson, Chicago, 12345}]              |\n",
      "+-----------------------------------------------------------------------------------------------+-------------------------------------------------+\n",
      "only showing top 10 rows\n",
      "\n"
     ]
    }
   ],
   "source": [
    "# Step 5: Parse the 'contact_data' column using the defined schema\n",
    "orders_df = orders_df.withColumn(\"parsed_contact_data\", from_json(col(\"contact_data\"), contact_data_schema))  \n",
    "# This step parses the 'contact_data' column into a structured format according to the defined schema\n",
    "\n",
    "# Step 6: Verify the results of the parsing\n",
    "orders_df.select(\"contact_data\", \"parsed_contact_data\").show(10, truncate=False)  \n",
    "\n",
    "# Display the original 'contact_data' and the parsed 'parsed_contact_data' columns for the first 10 rows to verify the parsing"
   ]
  },
  {
   "cell_type": "markdown",
   "metadata": {
    "application/vnd.databricks.v1+cell": {
     "cellMetadata": {
      "byteLimit": 2048000,
      "rowLimit": 10000
     },
     "inputWidgets": {},
     "nuid": "4977e7c5-16e8-4813-96c3-c89281083ead",
     "showTitle": false,
     "tableResultSettingsMap": {},
     "title": ""
    }
   },
   "source": [
    "The explode function is avoided as it doesn't handle empty rows in contact_data properly. Filtering rows before applying explode was considered, but using when with explode is not feasible."
   ]
  },
  {
   "cell_type": "code",
   "execution_count": 73,
   "metadata": {
    "application/vnd.databricks.v1+cell": {
     "cellMetadata": {
      "byteLimit": 2048000,
      "rowLimit": 10000
     },
     "inputWidgets": {},
     "nuid": "5b95e30e-3e8e-4683-a045-f6da9d0a1539",
     "showTitle": false,
     "tableResultSettingsMap": {},
     "title": ""
    }
   },
   "outputs": [
    {
     "name": "stdout",
     "output_type": "stream",
     "text": [
      "+--------------------+--------+--------------------+--------------------+----------+------------+---------------+--------------------+----------+--------------------+\n",
      "|            order_id|    date|          company_id|        company_name|crate_type|contact_name|contact_surname|        contact_city|contact_cp|         salesowners|\n",
      "+--------------------+--------+--------------------+--------------------+----------+------------+---------------+--------------------+----------+--------------------+\n",
      "|f47ac10b-58cc-437...|29.01.22|1e2b47e6-499e-41c...|     Fresh Fruits Co|   Plastic|      Curtis|        Jackson|             Chicago|     12345|Leonard Cohen, Lu...|\n",
      "|f47ac10b-58cc-437...|21.02.22|0f05a8f1-2bdf-4be...|         Veggies Inc|      Wood|       Maria|        Theresa|            Calcutta|      NULL|Luke Skywalker, D...|\n",
      "|f47ac10b-58cc-437...|03.04.22|1e2b47e6-499e-41c...|    Fresh Fruits c.o|     Metal|        Para|        Cetamol|   Frankfurt am Oder|      3934|      Luke Skywalker|\n",
      "|f47ac10b-58cc-437...|14.07.21|1c4b0b50-1d5d-463...|    Seafood Supplier|   Plastic|        NULL|           NULL|                NULL|      NULL|David Goliat, Leo...|\n",
      "|f47ac10b-58cc-437...|23.10.22|34538e39-cd2e-464...|    Meat Packers Ltd|   Plastic|        NULL|           NULL|                NULL|      NULL|Chris Pratt, Davi...|\n",
      "|f47ac10b-58cc-437...|15.05.22|fa14c3ed-3c48-49f...|        Green Veg Co|      Wood|        John|      Krasinski|            New York|      1203|Leonard Cohen, Da...|\n",
      "|f47ac10b-58cc-437...|31.12.22|2e90f2b1-d237-47a...|Seafood Supplier ...|     Metal|        NULL|           NULL|                NULL|      NULL|Markus Söder, Amm...|\n",
      "|f47ac10b-58cc-437...|01.04.22|acdb6f30-764f-404...|       Organic Farms|     Metal|    Jennifer|          Lopez|Esplugues de Llob...|      NULL|David Henderson, ...|\n",
      "|f47ac10b-58cc-437...|04.09.22|5f0bdbdf-1d84-4c2...| Tropical Fruits Ltd|   Plastic|        Liav|      Ichenbaum|            Tel Aviv|      NULL|Yuri Gagarin, Dav...|\n",
      "|f47ac10b-58cc-437...|07.11.22|27c59f76-5d26-4b8...|      Healthy Snacks|   Plastic|      Curtis|        Jackson|             Chicago|     12345|Ammy Winehouse, M...|\n",
      "|f47ac10b-58cc-437...|09.07.22|20dfef10-8f4e-45a...| healthy snacks c.o.|      Wood|     Anthony|            Pap|           Barcelona|      8023|Marianov Merschik...|\n",
      "|f47ac10b-58cc-437...|18.06.22|4a98d9ec-65f6-438...|   Fresh Berries Inc|   Plastic|     Natalia|        Romanov|              Moscow|     65432|Leonard Cohen, Am...|\n",
      "|f47ac10b-58cc-437...|12.08.22|f3b70f8d-bb74-4d9...|    Meat Express Ltd|     Metal|       Bruce|          Wayne|              Gotham|      NULL|Chris Pratt, Mari...|\n",
      "|f47ac10b-58cc-437...|22.09.22|83df789a-b30c-4a1...|   Tropical Fresh Co|      Wood|       Clark|           Kent|          Metropolis|     10001|Leonard Cohen, Da...|\n",
      "|f47ac10b-58cc-437...|27.10.22|9b31b19f-69a2-4ae...|   Veggies Unlimited|   Plastic|        NULL|           NULL|                NULL|      NULL|Leon Leonov, Ammy...|\n",
      "|f47ac10b-58cc-437...|15.11.22|d4e31b02-ea50-46b...|   Global Seafood Co|     Metal|        Tony|          Stark|            New York|      NULL|Yuri Gagarin, Leo...|\n",
      "|f47ac10b-58cc-437...|28.12.22|5c17d142-4b21-429...|     Fresh Farms Ltd|      Wood|       Diana|         Prince|          Themyscira|     45789|David Goliat, Chr...|\n",
      "|f47ac10b-58cc-437...|02.01.23|2b42dcb7-bc74-4e5...|   Healthy Greens Co|   Plastic|       Peter|         Parker|              Queens|     11432|Leonard Cohen, Am...|\n",
      "|f47ac10b-58cc-437...|19.02.23|6d3f48b2-4e3c-49d...| Fruits & Veggies Co|      Wood|       Steve|         Rogers|            Brooklyn|     11201|Chris Pratt, Yuri...|\n",
      "|f47ac10b-58cc-437...|11.03.23|1f06b236-f6b5-4f4...|     Green Farms Inc|     Metal|     Natasha|        Romanov|              Moscow|     65432|Ammy Winehouse, L...|\n",
      "|f47ac10b-58cc-437...|05.04.23|7d4b212e-29e5-4f2...| Organic Veggies Ltd|   Plastic|       Bruce|         Banner|       San Francisco|     94102|David Henderson, ...|\n",
      "|f47ac10b-58cc-437...|08.05.23|8f1c5d4a-9045-4be...|       Farm Fresh Co|     Metal|      Selina|           Kyle|              Gotham|      NULL|Chris Pratt, Leon...|\n",
      "|f47ac10b-58cc-437...|12.06.23|a32972e9-d9ad-418...|     Seafood Express|   Plastic|       Barry|          Allen|        Central City|     56321|Leonard Cohen, Yu...|\n",
      "|f47ac10b-58cc-437...|24.07.23|9e25a3d7-46b8-4c9...| Healthy Organics Co|      Wood|       Clark|           Kent|          Metropolis|      NULL|Ammy Winehouse, L...|\n",
      "|f47ac10b-58cc-437...|16.08.23|012f20c6-00d5-4f4...|     Green World Ltd|   Plastic|        NULL|           NULL|                NULL|      NULL|David Goliat, Chr...|\n",
      "|f47ac10b-58cc-437...|02.09.23|f31b4d26-5083-4b7...|   Fresh Veggies Inc|     Metal|       Diana|         Prince|          Themyscira|     45789|Marie Curie, Yuri...|\n",
      "|f47ac10b-58cc-437...|14.10.23|063a7dc7-b93a-4f3...|     Fruit Kings Ltd|      Wood|       Bruce|          Wayne|              Gotham|      NULL|Leon Leonov, Davi...|\n",
      "|f47ac10b-58cc-437...|29.11.23|7f80fdd9-1c1a-4ad...|     Veggie Haven Co|   Plastic|       Steve|         Rogers|            Brooklyn|      NULL|Leonard Cohen, Am...|\n",
      "|f47ac10b-58cc-437...|07.12.23|992c1e6e-7740-411...|  Seafood Global Inc|     Metal|       Peter|         Parker|              Queens|     11432|David Henderson, ...|\n",
      "|f47ac10b-58cc-437...|19.01.24|8347edb3-c4e5-4fc...|   Organic Foods Ltd|      Wood|        NULL|           NULL|                NULL|      NULL|Leonard Cohen, Ch...|\n",
      "|f47ac10b-58cc-437...|30.01.24|0d09ae2b-d9a5-4d6...|    Healthy Eats Ltd|   Plastic|        Tony|          Stark|            New York|      NULL|Ammy Winehouse, Y...|\n",
      "|f47ac10b-58cc-437...|13.02.24|4a7561b1-1de1-420...|     Farms Global Co|     Metal|     Natalia|        Romanov|              Moscow|     65432|David Goliat, Leo...|\n",
      "|f47ac10b-58cc-437...|05.03.24|4c0e716f-c8b1-4ad...| Veggie Partners Ltd|      Wood|       Bruce|         Banner|       San Francisco|     94102|Chris Pratt, Leon...|\n",
      "|f47ac10b-58cc-437...|27.03.24|9851fa89-7b7a-4ed...|    Fruit Market Ltd|   Plastic|      Curtis|        Jackson|             Chicago|     12345|Leonard Cohen, Da...|\n",
      "|f47ac10b-58cc-437...|10.04.24|c672f19b-f08b-4e1...|  Global Veggies Inc|     Metal|       Maria|        Theresa|            Calcutta|      NULL|Chris Pratt, Yuri...|\n",
      "|f47ac10b-58cc-437...|21.05.24|0b8755d4-3d28-403...| Seafood Network Ltd|      Wood|        NULL|           NULL|                NULL|      NULL|David Goliat, Leo...|\n",
      "|f47ac10b-58cc-437...|12.06.24|2122bb43-1a5e-4f8...|      Farm Fresh Ltd|   Plastic|       Diana|         Prince|          Themyscira|     45789|Leonard Cohen, Ma...|\n",
      "|f47ac10b-58cc-437...|03.07.24|f712dc3d-4681-4ec...|    Green Organic Co|     Metal|       Bruce|          Wayne|              Gotham|      NULL|Leon Leonov, Chri...|\n",
      "|f47ac10b-58cc-437...|15.08.24|6cbfd9da-14d3-4a5...|  Tropical Farms Ltd|      Wood|       Steve|         Rogers|            Brooklyn|     11201|Leonard Cohen, Da...|\n",
      "|f47ac10b-58cc-437...|28.09.24|d66c0c95-1f86-4d5...|  Healthy Choices Co|   Plastic|       Peter|         Parker|              Queens|     11432|Ammy Winehouse, L...|\n",
      "|f47ac10b-58cc-437...|09.10.24|1b21f4a3-22d2-43f...|        Fresh Veg Co|     Metal|        NULL|           NULL|                NULL|      NULL|Leonard Cohen, Da...|\n",
      "|f47ac10b-58cc-437...|17.11.24|1e2b47e6-499e-41c...|     Fresh Fruits Co|   Plastic|      Curtis|        Jackson|             Chicago|     12345|Leonard Cohen, Lu...|\n",
      "|f47ac10b-58cc-437...|12.12.24|0f05a8f1-2bdf-4be...|         Veggies Inc|      Wood|       Maria|        Theresa|            Calcutta|      NULL|David Goliat, Luk...|\n",
      "|f47ac10b-58cc-437...|03.01.25|1e2b47e6-499e-41c...|     Fresh Fruits Co|     Metal|        Para|        Cetamol|   Frankfurt am Oder|      3934|Luke Skywalker, A...|\n",
      "|f47ac10b-58cc-437...|25.01.25|1c4b0b50-1d5d-463...|    Seafood Supplier|   Plastic|        NULL|           NULL|                NULL|      NULL|David Goliat, Leo...|\n",
      "|f47ac10b-58cc-437...|02.02.25|34538e39-cd2e-464...|    Meat Packers Ltd|   Plastic|        NULL|           NULL|                NULL|      NULL|Chris Pratt, Davi...|\n",
      "|f47ac10b-58cc-437...|19.02.25|fa14c3ed-3c48-49f...|        Green Veg Co|      Wood|        John|      Krasinski|            New York|      1203|Leonard Cohen, Da...|\n",
      "|f47ac10b-58cc-437...|27.02.25|2e90f2b1-d237-47a...|Seafood Supplier ...|     Metal|        NULL|           NULL|                NULL|      NULL|Markus Söder, Amm...|\n",
      "|f47ac10b-58cc-437...|03.03.25|acdb6f30-764f-404...|       Organic Farms|     Metal|    Jennifer|          Lopez|Esplugues de Llob...|      NULL|David Henderson, ...|\n",
      "|f47ac10b-58cc-437...|12.03.25|5f0bdbdf-1d84-4c2...| Tropical Fruits Ltd|   Plastic|        Liav|      Ichenbaum|            Tel Aviv|      NULL|Yuri Gagarin, Dav...|\n",
      "|f47ac10b-58cc-437...|21.03.25|27c59f76-5d26-4b8...|      Healthy Snacks|   Plastic|      Curtis|        Jackson|             Chicago|     12345|Ammy Winehouse, M...|\n",
      "|f47ac10b-58cc-437...|29.03.25|20dfef10-8f4e-45a...|   Healthy Snacks Co|      Wood|     Anthony|            Pap|           Barcelona|      8023|Marianov Merschik...|\n",
      "|f47ac10b-58cc-437...|07.04.25|1e2b47e6-499e-41c...|     Fresh Fruits Co|     Metal|        NULL|           NULL|                NULL|      NULL|David Henderson, ...|\n",
      "|f47ac10b-58cc-437...|12.04.25|0f05a8f1-2bdf-4be...|         Veggies Inc|   Plastic|        NULL|           NULL|                NULL|      NULL|Leonard Cohen, Lu...|\n",
      "|f47ac10b-58cc-437...|16.04.25|34538e39-cd2e-464...|    Meat Packers Ltd|   Plastic|        NULL|           NULL|                NULL|      NULL|Chris Pratt, Davi...|\n",
      "|f47ac10b-58cc-437...|30.04.25|1c4b0b50-1d5d-463...|    Seafood Supplier|   Plastic|        NULL|           NULL|                NULL|      NULL|Leonard Cohen, Da...|\n",
      "|f47ac10b-58cc-437...|06.05.25|fa14c3ed-3c48-49f...|        Green Veg Co|      Wood|        John|      Krasinski|            New York|      1203|David Henderson, ...|\n",
      "|f47ac10b-58cc-437...|11.05.25|5f0bdbdf-1d84-4c2...| Tropical Fruits Ltd|     Metal|        NULL|           NULL|                NULL|      NULL|Yuri Gagarin, Dav...|\n",
      "|f47ac10b-58cc-437...|20.05.25|acdb6f30-764f-404...|       Organic Farms|   Plastic|    Jennifer|          Lopez|Esplugues de Llob...|      NULL|Leon Leonov, Chri...|\n",
      "|f47ac10b-58cc-437...|27.05.25|2e90f2b1-d237-47a...|Seafood Supplier ...|     Metal|        NULL|           NULL|                NULL|      NULL|Ammy Winehouse, L...|\n",
      "|f47ac10b-58cc-437...|04.06.25|fa14c3ed-3c48-49f...|        Green Veg Co|   Plastic|        NULL|           NULL|                NULL|      NULL|Luke Skywalker, C...|\n",
      "|f47ac10b-58cc-437...|15.06.25|1e2b47e6-499e-41c...|     Fresh Fruits Co|      Wood|      Curtis|        Jackson|             Chicago|     12345|Leonard Cohen, Am...|\n",
      "+--------------------+--------+--------------------+--------------------+----------+------------+---------------+--------------------+----------+--------------------+\n",
      "\n"
     ]
    }
   ],
   "source": [
    "from pyspark.sql import functions as F\n",
    "\n",
    "# Step 7: Extract the first value from the arrays (in case there's only one value)\n",
    "orders_df = orders_df.select(\n",
    "    \"order_id\",  # Select the order_id column\n",
    "    \"date\",  # Select the date column\n",
    "    \"company_id\",  # Select the company_id column\n",
    "    \"company_name\",  # Select the company_name column\n",
    "    \"crate_type\",  # Select the crate_type column\n",
    "    F.col(\"parsed_contact_data.contact_name\")[0].alias(\"contact_name\"),  # Extract the first contact_name from the array\n",
    "    F.col(\"parsed_contact_data.contact_surname\")[0].alias(\"contact_surname\"),  # Extract the first contact_surname from the array\n",
    "    F.col(\"parsed_contact_data.city\")[0].alias(\"contact_city\"),  # Extract the first city from the array\n",
    "    F.col(\"parsed_contact_data.cp\")[0].alias(\"contact_cp\"),  # Extract the first cp (postal code) from the array\n",
    "    \"salesowners\"  # Select the salesowners column\n",
    ")\n",
    "\n",
    "# Step 8: Display the result\n",
    "orders_df.show(100)  # Show the first 100 rows of the transformed dataframe"
   ]
  },
  {
   "cell_type": "markdown",
   "metadata": {
    "application/vnd.databricks.v1+cell": {
     "cellMetadata": {
      "byteLimit": 2048000,
      "rowLimit": 10000
     },
     "inputWidgets": {},
     "nuid": "7f8a1a00-fde0-49e3-bd88-4ea778a005b3",
     "showTitle": false,
     "tableResultSettingsMap": {},
     "title": ""
    }
   },
   "source": [
    "##### Export orders_df.csv"
   ]
  },
  {
   "cell_type": "code",
   "execution_count": 90,
   "metadata": {
    "application/vnd.databricks.v1+cell": {
     "cellMetadata": {
      "byteLimit": 2048000,
      "rowLimit": 10000
     },
     "inputWidgets": {},
     "nuid": "c904dcc5-c947-4d35-a317-88f6b710ab59",
     "showTitle": false,
     "tableResultSettingsMap": {},
     "title": ""
    }
   },
   "outputs": [],
   "source": [
    "import os\n",
    "import pandas as pd\n",
    "\n",
    "desktop_path = os.path.join(os.path.expanduser(\"~\"), \"Desktop\", \"orders_df.csv\")\n",
    "\n",
    "orders_df_export = orders_df.toPandas()\n",
    "orders_df_export.to_csv(desktop_path, index=False, encoding=\"utf-8\")\n"
   ]
  },
  {
   "cell_type": "markdown",
   "metadata": {
    "application/vnd.databricks.v1+cell": {
     "cellMetadata": {
      "byteLimit": 2048000,
      "rowLimit": 10000
     },
     "inputWidgets": {},
     "nuid": "a5c6cf62-b186-4675-afed-7e6d8e83d6a6",
     "showTitle": false,
     "tableResultSettingsMap": {},
     "title": ""
    }
   },
   "source": [
    "# Load Invoicing_data.json"
   ]
  },
  {
   "cell_type": "code",
   "execution_count": 75,
   "metadata": {},
   "outputs": [
    {
     "name": "stdout",
     "output_type": "stream",
     "text": [
      "Archivo descargado en: c:\\Users\\mouba\\Desktop\\invoicing_data.json\n",
      "root\n",
      " |-- data: struct (nullable = true)\n",
      " |    |-- invoices: array (nullable = true)\n",
      " |    |    |-- element: struct (containsNull = true)\n",
      " |    |    |    |-- companyId: string (nullable = true)\n",
      " |    |    |    |-- grossValue: string (nullable = true)\n",
      " |    |    |    |-- id: string (nullable = true)\n",
      " |    |    |    |-- orderId: string (nullable = true)\n",
      " |    |    |    |-- vat: string (nullable = true)\n",
      "\n",
      "+----------------------------------------------------------------------------------------------------------------------------------------------------------------------------------------------------------------------------------------------------------------------------------------------------------------------------------------------------------------------------------------------------------------------------------------------------------------------------------------------------------------------------------------------------------------------------------------------------------------------------------------------------------------------------------------------------------------------------------------------------------------------------------------------------------------------------------------------------------------------------------------------------------------------------------------------------------------------------------------------------------------------------------------------------------------------------------------------------------------------------------------------------------------------------------------------------------------------------------------------------------------------------------------------------------------------------------------------------------------------------------------------------------------------------------------------------------------------------------------------------------------------------------------------------------------------------------------------+\n",
      "|data                                                                                                                                                                                                                                                                                                                                                                                                                                                                                                                                                                                                                                                                                                                                                                                                                                                                                                                                                                                                                                                                                                                                                                                                                                                                                                                                                                                                                                                                                                                                                                                          |\n",
      "+----------------------------------------------------------------------------------------------------------------------------------------------------------------------------------------------------------------------------------------------------------------------------------------------------------------------------------------------------------------------------------------------------------------------------------------------------------------------------------------------------------------------------------------------------------------------------------------------------------------------------------------------------------------------------------------------------------------------------------------------------------------------------------------------------------------------------------------------------------------------------------------------------------------------------------------------------------------------------------------------------------------------------------------------------------------------------------------------------------------------------------------------------------------------------------------------------------------------------------------------------------------------------------------------------------------------------------------------------------------------------------------------------------------------------------------------------------------------------------------------------------------------------------------------------------------------------------------------+\n",
      "|{[{1e2b47e6-499e-41c6-91d3-09d12dddfbbd, 324222, e1e1e1e1-e1e1-e1e1-e1e1-e1e1e1e1e1e1, f47ac10b-58cc-4372-a567-0e02b2c3d479, 0}, {0f05a8f1-2bdf-4be7-8c82-4c9b58f04898, 193498, e2e2e2e2-e2e2-e2e2-e2e2-e2e2e2e2e2e2, f47ac10b-58cc-4372-a567-0e02b2c3d480, 19}, {1e2b47e6-499e-41c6-91d3-09d12dddfbbd, 345498, e3e3e3e3-e3e3-e3e3-e3e3-e3e3e3e3e3e3, f47ac10b-58cc-4372-a567-0e02b2c3d481, 21}, {1c4b0b50-1d5d-463a-b56e-1a6fd3aeb7d6, 245412, e4e4e4e4-e4e4-e4e4-e4e4-e4e4e4e4e4e4, f47ac10b-58cc-4372-a567-0e02b2c3d482, 34}, {34538e39-cd2e-4641-8d24-3c94146e6f16, 145467, e5e5e5e5-e5e5-e5e5-e5e5-e5e5e5e5e5e5, f47ac10b-58cc-4372-a567-0e02b2c3d483, 0}, {fa14c3ed-3c48-49f4-bd69-4d7f5b5f4b1b, 581530, e6e6e6e6-e6e6-e6e6-e6e6-e6e6e6e6e6e6, f47ac10b-58cc-4372-a567-0e02b2c3d484, 19}, {2e90f2b1-d237-47a6-96e8-6d01c0d78c3e, 45100, e7e7e7e7-e7e7-e7e7-e7e7-e7e7e7e7e7e7, f47ac10b-58cc-4372-a567-0e02b2c3d485, 19}, {acdb6f30-764f-404e-8b8e-7e7e3e6fa1a9, 565210, e8e8e8e8-e8e8-e8e8-e8e8-e8e8e8e8e8e8, f47ac10b-58cc-4372-a567-0e02b2c3d486, 21}, {5f0bdbdf-1d84-4c23-957c-8bb8c0ddc89d, 345310, e9e9e9e9-e9e9-e9e9-e9e9-e9e9e9e9e9e9, f47ac10b-58cc-4372-a567-0e02b2c3d487, 34}, {5f0bdbdf-1d84-4c23-957c-8bb8c0ddc89d, 345310, ea9ea9ea-9ea9-9ea9-9ea9-9ea9ea9ea9ea, f47ac10b-58cc-4372-a567-0e02b2c3d487, 34}, {27c59f76-5d26-4b82-a89b-59f8dfd2e9a7, 341315, eb0eb0eb-0eb0-0eb0-0eb0-0eb0eb0eb0eb, f47ac10b-58cc-4372-a567-0e02b2c3d488, 21}, {20dfef10-8f4e-45a1-82fc-123f4ab2a4a5, 291315, ec1ec1ec-1ec1-1ec1-1ec1-1ec1ec1ec1ec, f47ac10b-58cc-4372-a567-0e02b2c3d489, 0}]}|\n",
      "+----------------------------------------------------------------------------------------------------------------------------------------------------------------------------------------------------------------------------------------------------------------------------------------------------------------------------------------------------------------------------------------------------------------------------------------------------------------------------------------------------------------------------------------------------------------------------------------------------------------------------------------------------------------------------------------------------------------------------------------------------------------------------------------------------------------------------------------------------------------------------------------------------------------------------------------------------------------------------------------------------------------------------------------------------------------------------------------------------------------------------------------------------------------------------------------------------------------------------------------------------------------------------------------------------------------------------------------------------------------------------------------------------------------------------------------------------------------------------------------------------------------------------------------------------------------------------------------------+\n",
      "\n"
     ]
    }
   ],
   "source": [
    "# URL del archivo JSON\n",
    "url = \"https://raw.githubusercontent.com/Digital-IFCO/data-engineering-test/refs/heads/main/resources/invoicing_data.json\"\n",
    "\n",
    "# Descargar el archivo JSON a una ubicación local\n",
    "json_path = os.path.join(os.getcwd(), \"invoicing_data.json\")\n",
    "response = requests.get(url)\n",
    "if response.status_code == 200:\n",
    "    with open(json_path, 'wb') as f:\n",
    "        f.write(response.content)\n",
    "    print(f\"Archivo descargado en: {json_path}\")\n",
    "else:\n",
    "    print(f\"Error al descargar el archivo. Código de estado: {response.status_code}\")\n",
    "    exit()\n",
    "\n",
    "# Leer el archivo JSON directamente como un DataFrame de Spark\n",
    "invoicing_df = spark.read.option(\"multiline\", \"true\").json(json_path)\n",
    "\n",
    "# Inspect the structure of the DataFrame by printing its schema\n",
    "invoicing_df.printSchema()\n",
    "\n",
    "# Mostrar las primeras filas del DataFrame de Spark\n",
    "invoicing_df.show(10, truncate=False)"
   ]
  },
  {
   "cell_type": "code",
   "execution_count": 76,
   "metadata": {
    "application/vnd.databricks.v1+cell": {
     "cellMetadata": {
      "byteLimit": 2048000,
      "rowLimit": 10000
     },
     "inputWidgets": {},
     "nuid": "b0c9049f-4bbe-4c3f-bf6a-ff61161dc8f3",
     "showTitle": false,
     "tableResultSettingsMap": {},
     "title": ""
    }
   },
   "outputs": [
    {
     "name": "stdout",
     "output_type": "stream",
     "text": [
      "+------------------------------------+----------+------------------------------------+------------------------------------+---+\n",
      "|companyId                           |grossValue|id                                  |orderId                             |vat|\n",
      "+------------------------------------+----------+------------------------------------+------------------------------------+---+\n",
      "|1e2b47e6-499e-41c6-91d3-09d12dddfbbd|324222    |e1e1e1e1-e1e1-e1e1-e1e1-e1e1e1e1e1e1|f47ac10b-58cc-4372-a567-0e02b2c3d479|0  |\n",
      "|0f05a8f1-2bdf-4be7-8c82-4c9b58f04898|193498    |e2e2e2e2-e2e2-e2e2-e2e2-e2e2e2e2e2e2|f47ac10b-58cc-4372-a567-0e02b2c3d480|19 |\n",
      "|1e2b47e6-499e-41c6-91d3-09d12dddfbbd|345498    |e3e3e3e3-e3e3-e3e3-e3e3-e3e3e3e3e3e3|f47ac10b-58cc-4372-a567-0e02b2c3d481|21 |\n",
      "|1c4b0b50-1d5d-463a-b56e-1a6fd3aeb7d6|245412    |e4e4e4e4-e4e4-e4e4-e4e4-e4e4e4e4e4e4|f47ac10b-58cc-4372-a567-0e02b2c3d482|34 |\n",
      "|34538e39-cd2e-4641-8d24-3c94146e6f16|145467    |e5e5e5e5-e5e5-e5e5-e5e5-e5e5e5e5e5e5|f47ac10b-58cc-4372-a567-0e02b2c3d483|0  |\n",
      "|fa14c3ed-3c48-49f4-bd69-4d7f5b5f4b1b|581530    |e6e6e6e6-e6e6-e6e6-e6e6-e6e6e6e6e6e6|f47ac10b-58cc-4372-a567-0e02b2c3d484|19 |\n",
      "|2e90f2b1-d237-47a6-96e8-6d01c0d78c3e|45100     |e7e7e7e7-e7e7-e7e7-e7e7-e7e7e7e7e7e7|f47ac10b-58cc-4372-a567-0e02b2c3d485|19 |\n",
      "|acdb6f30-764f-404e-8b8e-7e7e3e6fa1a9|565210    |e8e8e8e8-e8e8-e8e8-e8e8-e8e8e8e8e8e8|f47ac10b-58cc-4372-a567-0e02b2c3d486|21 |\n",
      "|5f0bdbdf-1d84-4c23-957c-8bb8c0ddc89d|345310    |e9e9e9e9-e9e9-e9e9-e9e9-e9e9e9e9e9e9|f47ac10b-58cc-4372-a567-0e02b2c3d487|34 |\n",
      "|5f0bdbdf-1d84-4c23-957c-8bb8c0ddc89d|345310    |ea9ea9ea-9ea9-9ea9-9ea9-9ea9ea9ea9ea|f47ac10b-58cc-4372-a567-0e02b2c3d487|34 |\n",
      "|27c59f76-5d26-4b82-a89b-59f8dfd2e9a7|341315    |eb0eb0eb-0eb0-0eb0-0eb0-0eb0eb0eb0eb|f47ac10b-58cc-4372-a567-0e02b2c3d488|21 |\n",
      "|20dfef10-8f4e-45a1-82fc-123f4ab2a4a5|291315    |ec1ec1ec-1ec1-1ec1-1ec1-1ec1ec1ec1ec|f47ac10b-58cc-4372-a567-0e02b2c3d489|0  |\n",
      "+------------------------------------+----------+------------------------------------+------------------------------------+---+\n",
      "\n"
     ]
    }
   ],
   "source": [
    "# Access the 'invoices' array inside the 'data' field and explode it into separate rows\n",
    "invoicing_df = invoicing_df.selectExpr(\"data.invoices as invoices\").selectExpr(\"explode(invoices) as invoice\")\n",
    "\n",
    "# Flatten the structure to access the fields directly from the 'invoice' object\n",
    "invoicing_df = invoicing_df.select(\"invoice.*\")\n",
    "\n",
    "# Display the resulting DataFrame without truncating values\n",
    "invoicing_df.show(truncate=False)"
   ]
  },
  {
   "cell_type": "code",
   "execution_count": 77,
   "metadata": {
    "application/vnd.databricks.v1+cell": {
     "cellMetadata": {
      "byteLimit": 2048000,
      "rowLimit": 10000
     },
     "inputWidgets": {},
     "nuid": "d3ea9455-0840-4626-ac8f-d515a186033a",
     "showTitle": false,
     "tableResultSettingsMap": {},
     "title": ""
    }
   },
   "outputs": [
    {
     "name": "stdout",
     "output_type": "stream",
     "text": [
      "+------------------------------------+----------+------------------------------------+------------------------------------+---+\n",
      "|companyId                           |grossValue|id                                  |orderId                             |vat|\n",
      "+------------------------------------+----------+------------------------------------+------------------------------------+---+\n",
      "|1e2b47e6-499e-41c6-91d3-09d12dddfbbd|324222    |e1e1e1e1-e1e1-e1e1-e1e1-e1e1e1e1e1e1|f47ac10b-58cc-4372-a567-0e02b2c3d479|0  |\n",
      "|0f05a8f1-2bdf-4be7-8c82-4c9b58f04898|193498    |e2e2e2e2-e2e2-e2e2-e2e2-e2e2e2e2e2e2|f47ac10b-58cc-4372-a567-0e02b2c3d480|19 |\n",
      "|1e2b47e6-499e-41c6-91d3-09d12dddfbbd|345498    |e3e3e3e3-e3e3-e3e3-e3e3-e3e3e3e3e3e3|f47ac10b-58cc-4372-a567-0e02b2c3d481|21 |\n",
      "|1c4b0b50-1d5d-463a-b56e-1a6fd3aeb7d6|245412    |e4e4e4e4-e4e4-e4e4-e4e4-e4e4e4e4e4e4|f47ac10b-58cc-4372-a567-0e02b2c3d482|34 |\n",
      "|34538e39-cd2e-4641-8d24-3c94146e6f16|145467    |e5e5e5e5-e5e5-e5e5-e5e5-e5e5e5e5e5e5|f47ac10b-58cc-4372-a567-0e02b2c3d483|0  |\n",
      "|fa14c3ed-3c48-49f4-bd69-4d7f5b5f4b1b|581530    |e6e6e6e6-e6e6-e6e6-e6e6-e6e6e6e6e6e6|f47ac10b-58cc-4372-a567-0e02b2c3d484|19 |\n",
      "|2e90f2b1-d237-47a6-96e8-6d01c0d78c3e|45100     |e7e7e7e7-e7e7-e7e7-e7e7-e7e7e7e7e7e7|f47ac10b-58cc-4372-a567-0e02b2c3d485|19 |\n",
      "|acdb6f30-764f-404e-8b8e-7e7e3e6fa1a9|565210    |e8e8e8e8-e8e8-e8e8-e8e8-e8e8e8e8e8e8|f47ac10b-58cc-4372-a567-0e02b2c3d486|21 |\n",
      "|5f0bdbdf-1d84-4c23-957c-8bb8c0ddc89d|345310    |e9e9e9e9-e9e9-e9e9-e9e9-e9e9e9e9e9e9|f47ac10b-58cc-4372-a567-0e02b2c3d487|34 |\n",
      "|27c59f76-5d26-4b82-a89b-59f8dfd2e9a7|341315    |eb0eb0eb-0eb0-0eb0-0eb0-0eb0eb0eb0eb|f47ac10b-58cc-4372-a567-0e02b2c3d488|21 |\n",
      "|20dfef10-8f4e-45a1-82fc-123f4ab2a4a5|291315    |ec1ec1ec-1ec1-1ec1-1ec1-1ec1ec1ec1ec|f47ac10b-58cc-4372-a567-0e02b2c3d489|0  |\n",
      "+------------------------------------+----------+------------------------------------+------------------------------------+---+\n",
      "\n"
     ]
    }
   ],
   "source": [
    "# Remove duplicate rows based on the 'orderID' column\n",
    "invoicing_df = invoicing_df.dropDuplicates([\"orderID\"])\n",
    "\n",
    "# Display the resulting DataFrame without truncating values\n",
    "invoicing_df.show(truncate=False)"
   ]
  },
  {
   "cell_type": "markdown",
   "metadata": {
    "application/vnd.databricks.v1+cell": {
     "cellMetadata": {
      "byteLimit": 2048000,
      "rowLimit": 10000
     },
     "inputWidgets": {},
     "nuid": "0cc2905d-4ebb-410f-a920-8f10d891de5a",
     "showTitle": false,
     "tableResultSettingsMap": {},
     "title": ""
    }
   },
   "source": [
    "##### Export invoicing_df.csv"
   ]
  },
  {
   "cell_type": "code",
   "execution_count": 89,
   "metadata": {
    "application/vnd.databricks.v1+cell": {
     "cellMetadata": {
      "byteLimit": 2048000,
      "rowLimit": 10000
     },
     "inputWidgets": {},
     "nuid": "5abe7439-df58-4686-8e7d-bb701e057024",
     "showTitle": false,
     "tableResultSettingsMap": {},
     "title": ""
    }
   },
   "outputs": [],
   "source": [
    "desktop_path = os.path.join(os.path.expanduser(\"~\"), \"Desktop\", \"invoicing_df.csv\")\n",
    "\n",
    "invoicing_df_export = invoicing_df.toPandas()\n",
    "invoicing_df_export.to_csv(desktop_path, index=False, encoding=\"utf-8\")"
   ]
  },
  {
   "cell_type": "markdown",
   "metadata": {
    "application/vnd.databricks.v1+cell": {
     "cellMetadata": {
      "byteLimit": 2048000,
      "rowLimit": 10000
     },
     "inputWidgets": {},
     "nuid": "f26b5d30-902d-49c3-bb17-1e88bbe2d624",
     "showTitle": false,
     "tableResultSettingsMap": {},
     "title": ""
    }
   },
   "source": [
    "# Test 1: Distribution of Crate Type per Company\n",
    "- Calculate the distribution of crate types per company (number of orders per type). Ensure to include unit tests to validate the correctness of your calculations."
   ]
  },
  {
   "cell_type": "code",
   "execution_count": 79,
   "metadata": {
    "application/vnd.databricks.v1+cell": {
     "cellMetadata": {
      "byteLimit": 2048000,
      "rowLimit": 10000
     },
     "inputWidgets": {},
     "nuid": "3dc8bc58-f894-4965-8492-68f58d37b84a",
     "showTitle": false,
     "tableResultSettingsMap": {},
     "title": ""
    }
   },
   "outputs": [
    {
     "name": "stdout",
     "output_type": "stream",
     "text": [
      "+---------------------+----------+-----------+\n",
      "|company_name         |crate_type|order_count|\n",
      "+---------------------+----------+-----------+\n",
      "|Fresh Fruits Co      |Metal     |2          |\n",
      "|healthy snacks c.o.  |Wood      |1          |\n",
      "|Green World Ltd      |Plastic   |1          |\n",
      "|Fresh Berries Inc    |Plastic   |1          |\n",
      "|Seafood Global Inc   |Metal     |1          |\n",
      "|Organic Veggies Ltd  |Plastic   |1          |\n",
      "|Seafood Supplier GmbH|Metal     |3          |\n",
      "|Farms Global Co      |Metal     |1          |\n",
      "|Tropical Farms Ltd   |Wood      |1          |\n",
      "|Fresh Fruits Co      |Wood      |1          |\n",
      "|Veggie Haven Co      |Plastic   |1          |\n",
      "|Healthy Choices Co   |Plastic   |1          |\n",
      "|Healthy Snacks       |Plastic   |2          |\n",
      "|Veggies Inc          |Plastic   |1          |\n",
      "|Tropical Fruits Ltd  |Metal     |1          |\n",
      "|Veggies Inc          |Wood      |2          |\n",
      "|Seafood Supplier     |Plastic   |3          |\n",
      "|Global Veggies Inc   |Metal     |1          |\n",
      "|Tropical Fresh Co    |Wood      |1          |\n",
      "|Global Seafood Co    |Metal     |1          |\n",
      "|Veggies Unlimited    |Plastic   |1          |\n",
      "|Healthy Organics Co  |Wood      |1          |\n",
      "|Fresh Veggies Inc    |Metal     |1          |\n",
      "|Green Veg Co         |Wood      |3          |\n",
      "|Organic Farms        |Plastic   |1          |\n",
      "|Fresh Veg Co         |Metal     |1          |\n",
      "|Seafood Network Ltd  |Wood      |1          |\n",
      "|Meat Express Ltd     |Metal     |1          |\n",
      "|Fruits & Veggies Co  |Wood      |1          |\n",
      "|Green Organic Co     |Metal     |1          |\n",
      "|Organic Farms        |Metal     |2          |\n",
      "|Healthy Eats Ltd     |Plastic   |1          |\n",
      "|Farm Fresh Co        |Metal     |1          |\n",
      "|Fruit Market Ltd     |Plastic   |1          |\n",
      "|Healthy Snacks Co    |Wood      |1          |\n",
      "|Veggie Partners Ltd  |Wood      |1          |\n",
      "|Fresh Farms Ltd      |Wood      |1          |\n",
      "|Organic Foods Ltd    |Wood      |1          |\n",
      "|Healthy Greens Co    |Plastic   |1          |\n",
      "|Farm Fresh Ltd       |Plastic   |1          |\n",
      "|Meat Packers Ltd     |Plastic   |3          |\n",
      "|Tropical Fruits Ltd  |Plastic   |2          |\n",
      "|Green Farms Inc      |Metal     |1          |\n",
      "|Fruit Kings Ltd      |Wood      |1          |\n",
      "|Fresh Fruits Co      |Plastic   |2          |\n",
      "|Fresh Fruits c.o     |Metal     |1          |\n",
      "|Green Veg Co         |Plastic   |1          |\n",
      "|Seafood Express      |Plastic   |1          |\n",
      "+---------------------+----------+-----------+\n",
      "\n"
     ]
    }
   ],
   "source": [
    "# Step 1: Calculate the distribution of 'crate_type' by company (number of orders per crate type)\n",
    "crate_distribution_df = orders_df.groupBy(\"company_name\", \"crate_type\") \\\n",
    "    .agg(F.count(\"order_id\").alias(\"order_count\"))  # Group by company and crate type, then count the number of order_id per group\n",
    "\n",
    "# Step 2: Display the result\n",
    "crate_distribution_df.show(100, truncate=False)  # Show the first 100 rows of the distribution, with no truncation of columns"
   ]
  },
  {
   "cell_type": "code",
   "execution_count": 80,
   "metadata": {
    "application/vnd.databricks.v1+cell": {
     "cellMetadata": {
      "byteLimit": 2048000,
      "rowLimit": 10000
     },
     "inputWidgets": {},
     "nuid": "788043dc-9870-4274-935b-c71add9d6207",
     "showTitle": false,
     "tableResultSettingsMap": {},
     "title": ""
    }
   },
   "outputs": [],
   "source": [
    "# For unit tests, we can check the following:\n",
    "# 1. Verify that the total number of orders by company is correct\n",
    "# 2. Ensure that there are no null values in the \"company_name\" or \"crate_type\" fields\n",
    "\n",
    "# Test 1: Verify that there are no null values in \"company_name\" or \"crate_type\"\n",
    "assert crate_distribution_df.filter(F.col(\"company_name\").isNull()).count() == 0, \"There are null values in 'company_name'\"\n",
    "assert crate_distribution_df.filter(F.col(\"crate_type\").isNull()).count() == 0, \"There are null values in 'crate_type'\"\n",
    "\n",
    "# Test 2: Verify that the distribution is calculated correctly for a specific company\n",
    "# Assume we want to check the distribution of 'crate_type' for \"Fresh Fruits Co\"\n",
    "company_name = \"Fresh Fruits Co\"\n",
    "expected_distribution = crate_distribution_df.filter(F.col(\"company_name\") == company_name).collect()\n",
    "\n",
    "# Ensure that the distribution for \"Fresh Fruits Co\" is calculated\n",
    "assert len(expected_distribution) > 0, f\"No distribution found for company {company_name}\""
   ]
  },
  {
   "cell_type": "markdown",
   "metadata": {
    "application/vnd.databricks.v1+cell": {
     "cellMetadata": {
      "byteLimit": 2048000,
      "rowLimit": 10000
     },
     "inputWidgets": {},
     "nuid": "9079ff32-61be-4350-9c47-8996089e707b",
     "showTitle": false,
     "tableResultSettingsMap": {},
     "title": ""
    }
   },
   "source": [
    "# Test 2: DataFrame of Orders with Full Name of the Contact\n",
    "- Provide a DataFrame (df_1) containing the following columns:\n",
    "\n",
    "  order_id:\tThe order_id field must contain the unique identifier of the order.\n",
    "  contact_full_name:\tThe contact_full_name field must contain the full name of the contact. In case this information is not available, the placeholder \"John Doe\" should be utilized.\n",
    "\n",
    "  Include unit tests to verify that the full names are correctly extracted and the placeholder is used appropriately."
   ]
  },
  {
   "cell_type": "code",
   "execution_count": 81,
   "metadata": {
    "application/vnd.databricks.v1+cell": {
     "cellMetadata": {
      "byteLimit": 2048000,
      "rowLimit": 10000
     },
     "inputWidgets": {},
     "nuid": "83df7416-6b31-416e-9a0c-b896a228b17e",
     "showTitle": false,
     "tableResultSettingsMap": {},
     "title": ""
    }
   },
   "outputs": [
    {
     "name": "stdout",
     "output_type": "stream",
     "text": [
      "+------------------------------------+-----------------+\n",
      "|order_id                            |contact_full_name|\n",
      "+------------------------------------+-----------------+\n",
      "|f47ac10b-58cc-4372-a567-0e02b2c3d479|Curtis Jackson   |\n",
      "|f47ac10b-58cc-4372-a567-0e02b2c3d480|Maria Theresa    |\n",
      "|f47ac10b-58cc-4372-a567-0e02b2c3d481|Para Cetamol     |\n",
      "|f47ac10b-58cc-4372-a567-0e02b2c3d482|John Doe         |\n",
      "|f47ac10b-58cc-4372-a567-0e02b2c3d483|John Doe         |\n",
      "|f47ac10b-58cc-4372-a567-0e02b2c3d484|John Krasinski   |\n",
      "|f47ac10b-58cc-4372-a567-0e02b2c3d485|John Doe         |\n",
      "|f47ac10b-58cc-4372-a567-0e02b2c3d486|Jennifer Lopez   |\n",
      "|f47ac10b-58cc-4372-a567-0e02b2c3d487|Liav Ichenbaum   |\n",
      "|f47ac10b-58cc-4372-a567-0e02b2c3d488|Curtis Jackson   |\n",
      "|f47ac10b-58cc-4372-a567-0e02b2c3d489|Anthony Pap      |\n",
      "|f47ac10b-58cc-4372-a567-0e02b2c3d490|Natalia Romanov  |\n",
      "|f47ac10b-58cc-4372-a567-0e02b2c3d491|Bruce Wayne      |\n",
      "|f47ac10b-58cc-4372-a567-0e02b2c3d492|Clark Kent       |\n",
      "|f47ac10b-58cc-4372-a567-0e02b2c3d493|John Doe         |\n",
      "|f47ac10b-58cc-4372-a567-0e02b2c3d494|Tony Stark       |\n",
      "|f47ac10b-58cc-4372-a567-0e02b2c3d495|Diana Prince     |\n",
      "|f47ac10b-58cc-4372-a567-0e02b2c3d496|Peter Parker     |\n",
      "|f47ac10b-58cc-4372-a567-0e02b2c3d497|Steve Rogers     |\n",
      "|f47ac10b-58cc-4372-a567-0e02b2c3d498|Natasha Romanov  |\n",
      "|f47ac10b-58cc-4372-a567-0e02b2c3d499|Bruce Banner     |\n",
      "|f47ac10b-58cc-4372-a567-0e02b2c3d500|Selina Kyle      |\n",
      "|f47ac10b-58cc-4372-a567-0e02b2c3d501|Barry Allen      |\n",
      "|f47ac10b-58cc-4372-a567-0e02b2c3d502|Clark Kent       |\n",
      "|f47ac10b-58cc-4372-a567-0e02b2c3d503|John Doe         |\n",
      "|f47ac10b-58cc-4372-a567-0e02b2c3d504|Diana Prince     |\n",
      "|f47ac10b-58cc-4372-a567-0e02b2c3d505|Bruce Wayne      |\n",
      "|f47ac10b-58cc-4372-a567-0e02b2c3d506|Steve Rogers     |\n",
      "|f47ac10b-58cc-4372-a567-0e02b2c3d507|Peter Parker     |\n",
      "|f47ac10b-58cc-4372-a567-0e02b2c3d508|John Doe         |\n",
      "|f47ac10b-58cc-4372-a567-0e02b2c3d509|Tony Stark       |\n",
      "|f47ac10b-58cc-4372-a567-0e02b2c3d510|Natalia Romanov  |\n",
      "|f47ac10b-58cc-4372-a567-0e02b2c3d511|Bruce Banner     |\n",
      "|f47ac10b-58cc-4372-a567-0e02b2c3d512|Curtis Jackson   |\n",
      "|f47ac10b-58cc-4372-a567-0e02b2c3d513|Maria Theresa    |\n",
      "|f47ac10b-58cc-4372-a567-0e02b2c3d514|John Doe         |\n",
      "|f47ac10b-58cc-4372-a567-0e02b2c3d515|Diana Prince     |\n",
      "|f47ac10b-58cc-4372-a567-0e02b2c3d516|Bruce Wayne      |\n",
      "|f47ac10b-58cc-4372-a567-0e02b2c3d517|Steve Rogers     |\n",
      "|f47ac10b-58cc-4372-a567-0e02b2c3d518|Peter Parker     |\n",
      "|f47ac10b-58cc-4372-a567-0e02b2c3d519|John Doe         |\n",
      "|f47ac10b-58cc-4372-a567-0e02b2c3d520|Curtis Jackson   |\n",
      "|f47ac10b-58cc-4372-a567-0e02b2c3d521|Maria Theresa    |\n",
      "|f47ac10b-58cc-4372-a567-0e02b2c3d522|Para Cetamol     |\n",
      "|f47ac10b-58cc-4372-a567-0e02b2c3d523|John Doe         |\n",
      "|f47ac10b-58cc-4372-a567-0e02b2c3d524|John Doe         |\n",
      "|f47ac10b-58cc-4372-a567-0e02b2c3d525|John Krasinski   |\n",
      "|f47ac10b-58cc-4372-a567-0e02b2c3d526|John Doe         |\n",
      "|f47ac10b-58cc-4372-a567-0e02b2c3d527|Jennifer Lopez   |\n",
      "|f47ac10b-58cc-4372-a567-0e02b2c3d528|Liav Ichenbaum   |\n",
      "|f47ac10b-58cc-4372-a567-0e02b2c3d529|Curtis Jackson   |\n",
      "|f47ac10b-58cc-4372-a567-0e02b2c3d530|Anthony Pap      |\n",
      "|f47ac10b-58cc-4372-a567-0e02b2c3d531|John Doe         |\n",
      "|f47ac10b-58cc-4372-a567-0e02b2c3d532|John Doe         |\n",
      "|f47ac10b-58cc-4372-a567-0e02b2c3d533|John Doe         |\n",
      "|f47ac10b-58cc-4372-a567-0e02b2c3d534|John Doe         |\n",
      "|f47ac10b-58cc-4372-a567-0e02b2c3d535|John Krasinski   |\n",
      "|f47ac10b-58cc-4372-a567-0e02b2c3d536|John Doe         |\n",
      "|f47ac10b-58cc-4372-a567-0e02b2c3d537|Jennifer Lopez   |\n",
      "|f47ac10b-58cc-4372-a567-0e02b2c3d538|John Doe         |\n",
      "|f47ac10b-58cc-4372-a567-0e02b2c3d539|John Doe         |\n",
      "|f47ac10b-58cc-4372-a567-0e02b2c3d540|Curtis Jackson   |\n",
      "+------------------------------------+-----------------+\n",
      "\n"
     ]
    }
   ],
   "source": [
    "from pyspark.sql import functions as F\n",
    "\n",
    "# Step 1: Create the DataFrame df_1 with order_id and contact_full_name\n",
    "df_1 = orders_df.select(\n",
    "    \"order_id\",\n",
    "    # If contact_name or contact_surname is empty or null, use \"John Doe\"\n",
    "    F.when(F.col(\"contact_name\").isNull() | (F.col(\"contact_name\") == \"\"), \"John Doe\")  # Check if contact_name is null or empty\n",
    "     .otherwise(F.concat(F.col(\"contact_name\"), F.lit(\" \"), F.col(\"contact_surname\"))).alias(\"contact_full_name\")  # Concatenate contact_name and contact_surname\n",
    ")\n",
    "\n",
    "# Step 2: Display the result\n",
    "df_1.show(100, truncate=False)\n",
    "\n",
    "# Unit tests:\n",
    "\n",
    "# Test 1: Verify that the 'contact_full_name' column does not contain any null values\n",
    "assert df_1.filter(F.col(\"contact_full_name\").isNull()).count() == 0, \"There are null values in 'contact_full_name'\"\n",
    "\n",
    "# Test 2: Verify that the placeholder \"John Doe\" is used when names or surnames are null or empty\n",
    "# Check that \"John Doe\" is used when 'contact_name' and 'contact_surname' are empty\n",
    "placeholder_count = df_1.filter(F.col(\"contact_full_name\") == \"John Doe\").count()\n",
    "\n",
    "assert placeholder_count > 0, \"The placeholder 'John Doe' was not used correctly\"\n"
   ]
  },
  {
   "cell_type": "markdown",
   "metadata": {
    "application/vnd.databricks.v1+cell": {
     "cellMetadata": {
      "byteLimit": 2048000,
      "rowLimit": 10000
     },
     "inputWidgets": {},
     "nuid": "5452f690-2bcf-4130-8353-62dc359ccfcc",
     "showTitle": false,
     "tableResultSettingsMap": {},
     "title": ""
    }
   },
   "source": [
    "# Test 3: DataFrame of Orders with Contact Address\n",
    "- Provide a DataFrame (df_2) containing the following columns:\n",
    "\n",
    "order_id: The order_id field must contain the unique identifier of the order.\n",
    "contact_address:\tThe field for contact_address should adhere to the following information and format: \"city name, postal code\". In the event that the city name is not available, the placeholder \"Unknown\" should be used. Similarly, if the postal code is not known, the placeholder \"UNK00\" should be used.\n",
    "\n",
    "Ensure to include unit tests to validate the address formatting and placeholder logic."
   ]
  },
  {
   "cell_type": "code",
   "execution_count": 82,
   "metadata": {
    "application/vnd.databricks.v1+cell": {
     "cellMetadata": {
      "byteLimit": 2048000,
      "rowLimit": 10000
     },
     "inputWidgets": {},
     "nuid": "7392e085-2d6d-4260-91a6-adfd5d0f0ee9",
     "showTitle": false,
     "tableResultSettingsMap": {},
     "title": ""
    }
   },
   "outputs": [
    {
     "name": "stdout",
     "output_type": "stream",
     "text": [
      "+------------------------------------+-----------------------------+\n",
      "|order_id                            |contact_address              |\n",
      "+------------------------------------+-----------------------------+\n",
      "|f47ac10b-58cc-4372-a567-0e02b2c3d479|Chicago, 12345               |\n",
      "|f47ac10b-58cc-4372-a567-0e02b2c3d480|Calcutta, UNK00              |\n",
      "|f47ac10b-58cc-4372-a567-0e02b2c3d481|Frankfurt am Oder, 3934      |\n",
      "|f47ac10b-58cc-4372-a567-0e02b2c3d482|Unknown, UNK00               |\n",
      "|f47ac10b-58cc-4372-a567-0e02b2c3d483|Unknown, UNK00               |\n",
      "|f47ac10b-58cc-4372-a567-0e02b2c3d484|New York, 1203               |\n",
      "|f47ac10b-58cc-4372-a567-0e02b2c3d485|Unknown, UNK00               |\n",
      "|f47ac10b-58cc-4372-a567-0e02b2c3d486|Esplugues de Llobregat, UNK00|\n",
      "|f47ac10b-58cc-4372-a567-0e02b2c3d487|Tel Aviv, UNK00              |\n",
      "|f47ac10b-58cc-4372-a567-0e02b2c3d488|Chicago, 12345               |\n",
      "|f47ac10b-58cc-4372-a567-0e02b2c3d489|Barcelona, 8023              |\n",
      "|f47ac10b-58cc-4372-a567-0e02b2c3d490|Moscow, 65432                |\n",
      "|f47ac10b-58cc-4372-a567-0e02b2c3d491|Gotham, UNK00                |\n",
      "|f47ac10b-58cc-4372-a567-0e02b2c3d492|Metropolis, 10001            |\n",
      "|f47ac10b-58cc-4372-a567-0e02b2c3d493|Unknown, UNK00               |\n",
      "|f47ac10b-58cc-4372-a567-0e02b2c3d494|New York, UNK00              |\n",
      "|f47ac10b-58cc-4372-a567-0e02b2c3d495|Themyscira, 45789            |\n",
      "|f47ac10b-58cc-4372-a567-0e02b2c3d496|Queens, 11432                |\n",
      "|f47ac10b-58cc-4372-a567-0e02b2c3d497|Brooklyn, 11201              |\n",
      "|f47ac10b-58cc-4372-a567-0e02b2c3d498|Moscow, 65432                |\n",
      "|f47ac10b-58cc-4372-a567-0e02b2c3d499|San Francisco, 94102         |\n",
      "|f47ac10b-58cc-4372-a567-0e02b2c3d500|Gotham, UNK00                |\n",
      "|f47ac10b-58cc-4372-a567-0e02b2c3d501|Central City, 56321          |\n",
      "|f47ac10b-58cc-4372-a567-0e02b2c3d502|Metropolis, UNK00            |\n",
      "|f47ac10b-58cc-4372-a567-0e02b2c3d503|Unknown, UNK00               |\n",
      "|f47ac10b-58cc-4372-a567-0e02b2c3d504|Themyscira, 45789            |\n",
      "|f47ac10b-58cc-4372-a567-0e02b2c3d505|Gotham, UNK00                |\n",
      "|f47ac10b-58cc-4372-a567-0e02b2c3d506|Brooklyn, UNK00              |\n",
      "|f47ac10b-58cc-4372-a567-0e02b2c3d507|Queens, 11432                |\n",
      "|f47ac10b-58cc-4372-a567-0e02b2c3d508|Unknown, UNK00               |\n",
      "|f47ac10b-58cc-4372-a567-0e02b2c3d509|New York, UNK00              |\n",
      "|f47ac10b-58cc-4372-a567-0e02b2c3d510|Moscow, 65432                |\n",
      "|f47ac10b-58cc-4372-a567-0e02b2c3d511|San Francisco, 94102         |\n",
      "|f47ac10b-58cc-4372-a567-0e02b2c3d512|Chicago, 12345               |\n",
      "|f47ac10b-58cc-4372-a567-0e02b2c3d513|Calcutta, UNK00              |\n",
      "|f47ac10b-58cc-4372-a567-0e02b2c3d514|Unknown, UNK00               |\n",
      "|f47ac10b-58cc-4372-a567-0e02b2c3d515|Themyscira, 45789            |\n",
      "|f47ac10b-58cc-4372-a567-0e02b2c3d516|Gotham, UNK00                |\n",
      "|f47ac10b-58cc-4372-a567-0e02b2c3d517|Brooklyn, 11201              |\n",
      "|f47ac10b-58cc-4372-a567-0e02b2c3d518|Queens, 11432                |\n",
      "|f47ac10b-58cc-4372-a567-0e02b2c3d519|Unknown, UNK00               |\n",
      "|f47ac10b-58cc-4372-a567-0e02b2c3d520|Chicago, 12345               |\n",
      "|f47ac10b-58cc-4372-a567-0e02b2c3d521|Calcutta, UNK00              |\n",
      "|f47ac10b-58cc-4372-a567-0e02b2c3d522|Frankfurt am Oder, 3934      |\n",
      "|f47ac10b-58cc-4372-a567-0e02b2c3d523|Unknown, UNK00               |\n",
      "|f47ac10b-58cc-4372-a567-0e02b2c3d524|Unknown, UNK00               |\n",
      "|f47ac10b-58cc-4372-a567-0e02b2c3d525|New York, 1203               |\n",
      "|f47ac10b-58cc-4372-a567-0e02b2c3d526|Unknown, UNK00               |\n",
      "|f47ac10b-58cc-4372-a567-0e02b2c3d527|Esplugues de Llobregat, UNK00|\n",
      "|f47ac10b-58cc-4372-a567-0e02b2c3d528|Tel Aviv, UNK00              |\n",
      "|f47ac10b-58cc-4372-a567-0e02b2c3d529|Chicago, 12345               |\n",
      "|f47ac10b-58cc-4372-a567-0e02b2c3d530|Barcelona, 8023              |\n",
      "|f47ac10b-58cc-4372-a567-0e02b2c3d531|Unknown, UNK00               |\n",
      "|f47ac10b-58cc-4372-a567-0e02b2c3d532|Unknown, UNK00               |\n",
      "|f47ac10b-58cc-4372-a567-0e02b2c3d533|Unknown, UNK00               |\n",
      "|f47ac10b-58cc-4372-a567-0e02b2c3d534|Unknown, UNK00               |\n",
      "|f47ac10b-58cc-4372-a567-0e02b2c3d535|New York, 1203               |\n",
      "|f47ac10b-58cc-4372-a567-0e02b2c3d536|Unknown, UNK00               |\n",
      "|f47ac10b-58cc-4372-a567-0e02b2c3d537|Esplugues de Llobregat, UNK00|\n",
      "|f47ac10b-58cc-4372-a567-0e02b2c3d538|Unknown, UNK00               |\n",
      "|f47ac10b-58cc-4372-a567-0e02b2c3d539|Unknown, UNK00               |\n",
      "|f47ac10b-58cc-4372-a567-0e02b2c3d540|Chicago, 12345               |\n",
      "+------------------------------------+-----------------------------+\n",
      "\n"
     ]
    }
   ],
   "source": [
    "from pyspark.sql import functions as F\n",
    "\n",
    "# Step 1: Create the DataFrame df_2 with order_id and contact_address\n",
    "df_2 = orders_df.select(\n",
    "    \"order_id\",\n",
    "    # Constructing the contact_address\n",
    "    F.concat_ws(\n",
    "        \", \",  # Concatenate city and postal code with a comma separator\n",
    "        F.when(F.col(\"contact_city\").isNull() | (F.col(\"contact_city\") == \"\"), \"Unknown\")  # If contact_city is null or empty, use \"Unknown\"\n",
    "         .otherwise(F.col(\"contact_city\")),  # Otherwise, use the actual contact_city value\n",
    "        F.when(F.col(\"contact_cp\").isNull() | (F.col(\"contact_cp\") == \"\"), \"UNK00\")  # If contact_cp is null or empty, use \"UNK00\"\n",
    "         .otherwise(F.col(\"contact_cp\"))  # Otherwise, use the actual contact_cp value\n",
    "    ).alias(\"contact_address\")  # Alias the result as \"contact_address\"\n",
    ")\n",
    "\n",
    "# Step 2: Display the result\n",
    "df_2.show(100, truncate=False)  # Show the first 100 rows without truncating values\n",
    "\n",
    "# Unit tests:\n",
    "\n",
    "# Test 1: Verify that there are no null values in the 'contact_address' column\n",
    "assert df_2.filter(F.col(\"contact_address\").isNull()).count() == 0, \"There are null values in 'contact_address'\"\n",
    "\n",
    "# Test 2: Verify that the placeholder \"Unknown\" is used when the city is unavailable\n",
    "unknown_city_count = df_2.filter(F.col(\"contact_address\").contains(\"Unknown\")).count()\n",
    "assert unknown_city_count > 0, \"The placeholder 'Unknown' was not used correctly for the city\"\n",
    "\n",
    "# Test 3: Verify that the placeholder \"UNK00\" is used when the postal code is unavailable\n",
    "unk_cp_count = df_2.filter(F.col(\"contact_address\").contains(\"UNK00\")).count()\n",
    "assert unk_cp_count > 0, \"The placeholder 'UNK00' was not used correctly for the postal code\""
   ]
  },
  {
   "cell_type": "markdown",
   "metadata": {
    "application/vnd.databricks.v1+cell": {
     "cellMetadata": {
      "byteLimit": 2048000,
      "rowLimit": 10000
     },
     "inputWidgets": {},
     "nuid": "54004921-2fb9-4ae4-a7c3-33b9eea16a63",
     "showTitle": false,
     "tableResultSettingsMap": {},
     "title": ""
    }
   },
   "source": [
    "# Test 4: Calculation of Sales Team Commissions\n",
    "The Sales Team requires your assistance in computing the commissions. It is possible for multiple salespersons to be associated with a single order, as they may have participated in different stages of the order. The salesowners field comprises a ranked list of the salespeople who have ownership of the order. The first individual on the list represents the primary owner, while the subsequent individuals, if any, are considered co-owners who have contributed to the acquisition process. The calculation of commissions follows a specific procedure:\n",
    "\n",
    "- Main Owner: 6% of the net invoiced value.\n",
    "- Co-owner 1 (second in the list): 2.5% of the net invoiced value.\n",
    "- Co-owner 2 (third in the list): 0.95% of the net invoiced value.\n",
    "- The rest of the co-owners do not receive anything.\n",
    "\n",
    "Provide a list of the distinct sales owners and their respective commission earnings. The list should be sorted in order of descending performance, with the sales owners who have generated the highest commissions appearing first.\n",
    "\n",
    "Hint: Raw amounts are represented in cents. Please provide euro amounts with two decimal places in the results.\n",
    "\n",
    "Include unit tests to verify the correctness of the commission calculations and sorting order."
   ]
  },
  {
   "cell_type": "code",
   "execution_count": 83,
   "metadata": {
    "application/vnd.databricks.v1+cell": {
     "cellMetadata": {
      "byteLimit": 2048000,
      "rowLimit": 10000
     },
     "inputWidgets": {},
     "nuid": "13b08b82-0e8c-4512-819a-e711abaf67cd",
     "showTitle": false,
     "tableResultSettingsMap": {},
     "title": ""
    }
   },
   "outputs": [
    {
     "name": "stdout",
     "output_type": "stream",
     "text": [
      "+------------------------------------+-----------+-----------------------------------------------------------------+-----------------+---+------------------+\n",
      "|order_id                            |gross_value|salesowners                                                      |salesowner       |vat|net_value         |\n",
      "+------------------------------------+-----------+-----------------------------------------------------------------+-----------------+---+------------------+\n",
      "|f47ac10b-58cc-4372-a567-0e02b2c3d479|324222.0   |[Leonard Cohen,  Luke Skywalker,  Ammy Winehouse]                |Leonard Cohen    |0  |324222.0          |\n",
      "|f47ac10b-58cc-4372-a567-0e02b2c3d479|324222.0   |[Leonard Cohen,  Luke Skywalker,  Ammy Winehouse]                |Luke Skywalker   |0  |324222.0          |\n",
      "|f47ac10b-58cc-4372-a567-0e02b2c3d479|324222.0   |[Leonard Cohen,  Luke Skywalker,  Ammy Winehouse]                |Ammy Winehouse   |0  |324222.0          |\n",
      "|f47ac10b-58cc-4372-a567-0e02b2c3d480|193498.0   |[Luke Skywalker,  David Goliat,  Leon Leonov]                    |Luke Skywalker   |19 |156733.38         |\n",
      "|f47ac10b-58cc-4372-a567-0e02b2c3d480|193498.0   |[Luke Skywalker,  David Goliat,  Leon Leonov]                    |David Goliat     |19 |156733.38         |\n",
      "|f47ac10b-58cc-4372-a567-0e02b2c3d480|193498.0   |[Luke Skywalker,  David Goliat,  Leon Leonov]                    |Leon Leonov      |19 |156733.38         |\n",
      "|f47ac10b-58cc-4372-a567-0e02b2c3d481|345498.0   |[Luke Skywalker]                                                 |Luke Skywalker   |21 |272943.42         |\n",
      "|f47ac10b-58cc-4372-a567-0e02b2c3d482|245412.0   |[David Goliat,  Leonard Cohen]                                   |David Goliat     |34 |161971.92         |\n",
      "|f47ac10b-58cc-4372-a567-0e02b2c3d482|245412.0   |[David Goliat,  Leonard Cohen]                                   |Leonard Cohen    |34 |161971.92         |\n",
      "|f47ac10b-58cc-4372-a567-0e02b2c3d483|145467.0   |[Chris Pratt,  David Henderson,  Marianov Merschik,  Leon Leonov]|Chris Pratt      |0  |145467.0          |\n",
      "|f47ac10b-58cc-4372-a567-0e02b2c3d483|145467.0   |[Chris Pratt,  David Henderson,  Marianov Merschik,  Leon Leonov]|David Henderson  |0  |145467.0          |\n",
      "|f47ac10b-58cc-4372-a567-0e02b2c3d483|145467.0   |[Chris Pratt,  David Henderson,  Marianov Merschik,  Leon Leonov]|Marianov Merschik|0  |145467.0          |\n",
      "|f47ac10b-58cc-4372-a567-0e02b2c3d483|145467.0   |[Chris Pratt,  David Henderson,  Marianov Merschik,  Leon Leonov]|Leon Leonov      |0  |145467.0          |\n",
      "|f47ac10b-58cc-4372-a567-0e02b2c3d484|581530.0   |[Leonard Cohen,  David Henderson]                                |Leonard Cohen    |19 |471039.30000000005|\n",
      "|f47ac10b-58cc-4372-a567-0e02b2c3d484|581530.0   |[Leonard Cohen,  David Henderson]                                |David Henderson  |19 |471039.30000000005|\n",
      "|f47ac10b-58cc-4372-a567-0e02b2c3d485|45100.0    |[Markus Söder,  Ammy Winehouse]                                  |Markus Söder     |19 |36531.0           |\n",
      "|f47ac10b-58cc-4372-a567-0e02b2c3d485|45100.0    |[Markus Söder,  Ammy Winehouse]                                  |Ammy Winehouse   |19 |36531.0           |\n",
      "|f47ac10b-58cc-4372-a567-0e02b2c3d486|565210.0   |[David Henderson,  Leonard Cohen,  Leon Leonov]                  |David Henderson  |21 |446515.9          |\n",
      "|f47ac10b-58cc-4372-a567-0e02b2c3d486|565210.0   |[David Henderson,  Leonard Cohen,  Leon Leonov]                  |Leonard Cohen    |21 |446515.9          |\n",
      "|f47ac10b-58cc-4372-a567-0e02b2c3d486|565210.0   |[David Henderson,  Leonard Cohen,  Leon Leonov]                  |Leon Leonov      |21 |446515.9          |\n",
      "|f47ac10b-58cc-4372-a567-0e02b2c3d487|345310.0   |[Yuri Gagarin,  David Goliat,  David Henderson]                  |Yuri Gagarin     |34 |227904.6          |\n",
      "|f47ac10b-58cc-4372-a567-0e02b2c3d487|345310.0   |[Yuri Gagarin,  David Goliat,  David Henderson]                  |David Goliat     |34 |227904.6          |\n",
      "|f47ac10b-58cc-4372-a567-0e02b2c3d487|345310.0   |[Yuri Gagarin,  David Goliat,  David Henderson]                  |David Henderson  |34 |227904.6          |\n",
      "|f47ac10b-58cc-4372-a567-0e02b2c3d488|341315.0   |[Ammy Winehouse,  Marie Curie,  Chris Pratt]                     |Ammy Winehouse   |21 |269638.85000000003|\n",
      "|f47ac10b-58cc-4372-a567-0e02b2c3d488|341315.0   |[Ammy Winehouse,  Marie Curie,  Chris Pratt]                     |Marie Curie      |21 |269638.85000000003|\n",
      "|f47ac10b-58cc-4372-a567-0e02b2c3d488|341315.0   |[Ammy Winehouse,  Marie Curie,  Chris Pratt]                     |Chris Pratt      |21 |269638.85000000003|\n",
      "|f47ac10b-58cc-4372-a567-0e02b2c3d489|291315.0   |[Marianov Merschik,  Vladimir Chukov,  Luke Skywalker]           |Marianov Merschik|0  |291315.0          |\n",
      "|f47ac10b-58cc-4372-a567-0e02b2c3d489|291315.0   |[Marianov Merschik,  Vladimir Chukov,  Luke Skywalker]           |Vladimir Chukov  |0  |291315.0          |\n",
      "|f47ac10b-58cc-4372-a567-0e02b2c3d489|291315.0   |[Marianov Merschik,  Vladimir Chukov,  Luke Skywalker]           |Luke Skywalker   |0  |291315.0          |\n",
      "+------------------------------------+-----------+-----------------------------------------------------------------+-----------------+---+------------------+\n",
      "\n"
     ]
    }
   ],
   "source": [
    "from pyspark.sql.functions import col, explode, split\n",
    "\n",
    "# Step 1. Perform an inner join between invoices_df and orders_df using the 'order_id'\n",
    "joined_df = invoicing_df.join(orders_df, invoicing_df[\"orderId\"] == orders_df[\"order_id\"], how=\"inner\")\n",
    "# The join is performed on the 'orderId' column from 'invoicing_df' and 'order_id' from 'orders_df'\n",
    "\n",
    "# Step 2. Split 'salesowners' by commas to create an array and then explode the array into separate rows\n",
    "joined_df = joined_df.select(\n",
    "    col(\"orderId\").alias(\"order_id\"),  # Keep the 'order_id' column\n",
    "    col(\"grossValue\").cast(\"double\").alias(\"gross_value\"),  # Cast the grossValue to double\n",
    "    split(col(\"salesowners\"), \",\").alias(\"salesowners\"),  # Split 'salesowners' by commas into an array\n",
    "    explode(split(col(\"salesowners\"), \", \")).alias(\"salesowner\"),  # Explode the array to create separate rows for each salesowner\n",
    "    col(\"vat\"),\n",
    "    (col(\"grossValue\") * ((100 - col(\"vat\")) / 100)).cast(\"double\").alias(\"net_value\")  # Calculate the net value by subtracting VAT from the gross value\n",
    ")\n",
    "\n",
    "# Step 3: Display the first 100 rows of the resulting DataFrame without truncating the values\n",
    "joined_df.show(100, truncate=False)"
   ]
  },
  {
   "cell_type": "code",
   "execution_count": 84,
   "metadata": {
    "application/vnd.databricks.v1+cell": {
     "cellMetadata": {
      "byteLimit": 2048000,
      "rowLimit": 10000
     },
     "inputWidgets": {},
     "nuid": "ed96d300-591b-49fa-945c-cdd9f89a2e94",
     "showTitle": false,
     "tableResultSettingsMap": {},
     "title": ""
    }
   },
   "outputs": [
    {
     "name": "stdout",
     "output_type": "stream",
     "text": [
      "+-----------------+------------------+\n",
      "|salesowner       |total_commission  |\n",
      "+-----------------+------------------+\n",
      "|Leonard Cohen    |47715.678         |\n",
      "|David Henderson  |26790.954         |\n",
      "|Luke Skywalker   |25780.608         |\n",
      "|Marianov Merschik|17478.899999999998|\n",
      "|Ammy Winehouse   |16178.331000000002|\n",
      "|Yuri Gagarin     |13674.276         |\n",
      "|David Goliat     |9718.315200000001 |\n",
      "|Chris Pratt      |8728.02           |\n",
      "|Markus Söder     |2191.86           |\n",
      "|Leon Leonov      |0.0               |\n",
      "|Marie Curie      |0.0               |\n",
      "|Vladimir Chukov  |0.0               |\n",
      "+-----------------+------------------+\n",
      "\n"
     ]
    }
   ],
   "source": [
    "# Step 7: Assign roles based on the position of 'salesowner' in the list\n",
    "role_df = joined_df.withColumn(\n",
    "    \"role\", \n",
    "    when(col(\"salesowner\") == col(\"salesowners\").getItem(0), \"main_owner\")  # First owner\n",
    "    .when(col(\"salesowner\") == col(\"salesowners\").getItem(1), \"co_owner_1\")  # Second owner\n",
    "    .when(col(\"salesowner\") == col(\"salesowners\").getItem(2), \"co_owner_2\")  # Third owner\n",
    "    .otherwise(\"no_commission\")  # For all other owners\n",
    ")\n",
    "\n",
    "# Step 8: Calculate commissions based on roles\n",
    "commission_df = role_df.withColumn(\n",
    "    \"commission\", \n",
    "    when(col(\"role\") == \"main_owner\", col(\"net_value\") * 0.06)  # 6% for the main owner\n",
    "    .when(col(\"role\") == \"co_owner_1\", col(\"net_value\") * 0.025)  # 2.5% for the first co-owner\n",
    "    .when(col(\"role\") == \"co_owner_2\", col(\"net_value\") * 0.0095)  # 0.95% for the second co-owner\n",
    "    .otherwise(0)  # No commission for other roles\n",
    ")\n",
    "\n",
    "# Step 9: Sum commissions by 'salesowner' and order in descending order\n",
    "result_df = commission_df.groupBy(\"salesowner\") \\\n",
    "    .agg(F.sum(\"commission\").alias(\"total_commission\")) \\\n",
    "    .orderBy(col(\"total_commission\").desc())  # Sort in descending order of total commission\n",
    "\n",
    "# Show the result with total commissions by 'salesowner'\n",
    "result_df.show(100, truncate=False)"
   ]
  },
  {
   "cell_type": "code",
   "execution_count": 85,
   "metadata": {
    "application/vnd.databricks.v1+cell": {
     "cellMetadata": {
      "byteLimit": 2048000,
      "rowLimit": 10000
     },
     "inputWidgets": {},
     "nuid": "2c32c394-41b9-4e48-962b-f6dcfb5df0d5",
     "showTitle": false,
     "tableResultSettingsMap": {},
     "title": ""
    }
   },
   "outputs": [
    {
     "name": "stdout",
     "output_type": "stream",
     "text": [
      "+-----------------+----------------+\n",
      "|salesowner       |total_commission|\n",
      "+-----------------+----------------+\n",
      "|Leonard Cohen    |477.16          |\n",
      "|David Henderson  |267.91          |\n",
      "|Luke Skywalker   |257.81          |\n",
      "|Marianov Merschik|174.79          |\n",
      "|Ammy Winehouse   |161.78          |\n",
      "|Yuri Gagarin     |136.74          |\n",
      "|David Goliat     |97.18           |\n",
      "|Chris Pratt      |87.28           |\n",
      "|Markus Söder     |21.92           |\n",
      "|Leon Leonov      |0.0             |\n",
      "|Marie Curie      |0.0             |\n",
      "|Vladimir Chukov  |0.0             |\n",
      "+-----------------+----------------+\n",
      "\n"
     ]
    }
   ],
   "source": [
    "# Step 10: Convert to euros with two decimal places\n",
    "# We divide the 'total_commission' by 100 to convert from cents to euros and round the result to two decimal places.\n",
    "result_df = result_df.withColumn(\"total_commission\", round(col(\"total_commission\") / 100, 2))\n",
    "\n",
    "# Display the result with the total commissions in euros\n",
    "result_df.show(100, truncate=False)"
   ]
  },
  {
   "cell_type": "code",
   "execution_count": 86,
   "metadata": {
    "application/vnd.databricks.v1+cell": {
     "cellMetadata": {
      "byteLimit": 2048000,
      "rowLimit": 10000
     },
     "inputWidgets": {},
     "nuid": "ee47c988-b1d0-44bc-97bb-4708cb204829",
     "showTitle": false,
     "tableResultSettingsMap": {},
     "title": ""
    }
   },
   "outputs": [],
   "source": [
    "# Step 11: Collect the results into a list\n",
    "result = result_df.collect()\n",
    "\n",
    "# Step 12: Ensure the commissions are positive (or zero)\n",
    "# Loop through each row to check if 'total_commission' is greater than or equal to zero\n",
    "for row in result:\n",
    "    assert row[\"total_commission\"] >= 0, f\"Negative commission found for {row['salesowner']}: {row['total_commission']}\"\n",
    "\n",
    "# Step 13: Verify that the total commission values by 'salesowner' are consistent\n",
    "# Assuming the input data is correct, we just check the general logic\n",
    "for i in range(1, len(result)):\n",
    "    # Check that 'salesowner' is not null\n",
    "    assert result[i][\"salesowner\"] is not None, \"'salesowner' cannot be null\"\n",
    "    \n",
    "    # Check that 'total_commission' is not null\n",
    "    assert result[i][\"total_commission\"] is not None, \"'total_commission' cannot be null\"\n",
    "    \n",
    "    # If there are any null values, they must be processed correctly by the system\n",
    "    assert isinstance(result[i][\"salesowner\"], str), f\"The value of 'salesowner' for {result[i]['salesowner']} is not a string\"\n",
    "    assert isinstance(result[i][\"total_commission\"], (int, float)), f\"The value of 'total_commission' for {result[i]['salesowner']} is not numeric\"\n",
    "\n",
    "# Step 14: Verify that the aggregation and sorting are correct\n",
    "# Ensure the total commission for each 'salesowner' is sorted in descending order\n",
    "for i in range(1, len(result)):\n",
    "    assert result[i-1][\"total_commission\"] >= result[i][\"total_commission\"], \\\n",
    "        f\"The 'salesowner' {result[i-1]['salesowner']} should have a commission greater than or equal to {result[i]['salesowner']}\""
   ]
  },
  {
   "cell_type": "markdown",
   "metadata": {
    "application/vnd.databricks.v1+cell": {
     "cellMetadata": {
      "byteLimit": 2048000,
      "rowLimit": 10000
     },
     "inputWidgets": {},
     "nuid": "a357be56-84d8-45b1-a66f-f0d8dd51bc12",
     "showTitle": false,
     "tableResultSettingsMap": {},
     "title": ""
    }
   },
   "source": [
    "# Test 5: DataFrame of Companies with Sales Owners\n",
    "Provide a DataFrame (df_3) containing the following columns:\n",
    "\n",
    "- company_id:\tThe company_id field must contain the unique identifier of the company.\n",
    "- company_name:\tThe company_name field must contain the name of the company.\n",
    "- list_salesowners:\tThe list_salesowners field should contain a unique and comma-separated list of salespeople who have participated in at least one order of the company. \n",
    "\n",
    "Please ensure that the list is sorted in ascending alphabetical order of the first name.\n",
    "\n",
    "Hint: Consider the possibility of duplicate companies stored under multiple IDs in the database. Take this into account while devising a solution to this exercise.\n",
    "\n",
    "Ensure to include unit tests to validate the uniqueness and sorting of the sales owners list, and the handling of duplicate companies."
   ]
  },
  {
   "cell_type": "code",
   "execution_count": 87,
   "metadata": {
    "application/vnd.databricks.v1+cell": {
     "cellMetadata": {
      "byteLimit": 2048000,
      "rowLimit": 10000
     },
     "inputWidgets": {},
     "nuid": "4e9ce2e6-e0ad-4888-b361-d4280381c179",
     "showTitle": false,
     "tableResultSettingsMap": {},
     "title": ""
    }
   },
   "outputs": [
    {
     "name": "stdout",
     "output_type": "stream",
     "text": [
      "+------------------------------------+--------------------------------------+---------------------------------------------------------------------------+\n",
      "|company_id                          |company_name                          |list_salesowners                                                           |\n",
      "+------------------------------------+--------------------------------------+---------------------------------------------------------------------------+\n",
      "|8f1c5d4a-9045-4be5-bb38-7f587f478a92|Farm Fresh Co                         |Ammy Winehouse, Chris Pratt, Leonard Cohen                                 |\n",
      "|2122bb43-1a5e-4f8d-8bb9-4987c9d4a8df|Farm Fresh Ltd                        |Leonard Cohen, Marie Curie, Yuri Gagarin                                   |\n",
      "|4a7561b1-1de1-420a-93ed-2c12a5bbd1ab|Farms Global Co                       |David Goliat, Leonard Cohen                                                |\n",
      "|4a98d9ec-65f6-438f-9a0c-0d9e1a6f7c65|Fresh Berries Inc                     |Ammy Winehouse, Leonard Cohen                                              |\n",
      "|5c17d142-4b21-4293-8a34-8dcd2bc24f82|Fresh Farms Ltd                       |Chris Pratt, David Goliat, Marie Curie                                     |\n",
      "|1e2b47e6-499e-41c6-91d3-09d12dddfbbd|Fresh Fruits Co, Fresh Fruits c.o     |Ammy Winehouse, David Henderson, Leon Leonov, Leonard Cohen, Luke Skywalker|\n",
      "|1b21f4a3-22d2-43f2-ae3f-e254d282d9e0|Fresh Veg Co                          |David Henderson, Leonard Cohen                                             |\n",
      "|f31b4d26-5083-4b7a-bef9-3f89c7c95758|Fresh Veggies Inc                     |Marie Curie, Yuri Gagarin                                                  |\n",
      "|063a7dc7-b93a-4f38-b7f0-0e30b5b217ac|Fruit Kings Ltd                       |David Goliat, Leon Leonov                                                  |\n",
      "|9851fa89-7b7a-4ed5-89f7-65c20599e0d2|Fruit Market Ltd                      |Ammy Winehouse, David Henderson, Leonard Cohen                             |\n",
      "|6d3f48b2-4e3c-49d5-b437-735d537bb2a6|Fruits & Veggies Co                   |Chris Pratt, Yuri Gagarin                                                  |\n",
      "|d4e31b02-ea50-46b7-a8a1-43fdbb06e3fa|Global Seafood Co                     |Leonard Cohen, Yuri Gagarin                                                |\n",
      "|c672f19b-f08b-4e11-b0f5-791ea8273d85|Global Veggies Inc                    |Chris Pratt, Yuri Gagarin                                                  |\n",
      "|1f06b236-f6b5-4f48-8c1c-7b55b5c7d6f7|Green Farms Inc                       |Ammy Winehouse, Leon Leonov                                                |\n",
      "|f712dc3d-4681-4ec6-9b76-bf47b4ccf5b2|Green Organic Co                      |Chris Pratt, Leon Leonov                                                   |\n",
      "|fa14c3ed-3c48-49f4-bd69-4d7f5b5f4b1b|Green Veg Co                          |Ammy Winehouse, Chris Pratt, David Henderson, Leonard Cohen, Luke Skywalker|\n",
      "|012f20c6-00d5-4f45-999f-12e7639db623|Green World Ltd                       |Chris Pratt, David Goliat                                                  |\n",
      "|d66c0c95-1f86-4d55-9245-bfa98c0f8dcb|Healthy Choices Co                    |Ammy Winehouse, Chris Pratt, Leon Leonov                                   |\n",
      "|0d09ae2b-d9a5-4d67-bb97-963be9379b4e|Healthy Eats Ltd                      |Ammy Winehouse, Yuri Gagarin                                               |\n",
      "|2b42dcb7-bc74-4e56-93f8-7612d5061d5f|Healthy Greens Co                     |Ammy Winehouse, Leonard Cohen, Marie Curie                                 |\n",
      "|9e25a3d7-46b8-4c9d-b805-2f6c3be6f5a0|Healthy Organics Co                   |Ammy Winehouse, Leon Leonov, Marie Curie                                   |\n",
      "|27c59f76-5d26-4b82-a89b-59f8dfd2e9a7|Healthy Snacks                        |Ammy Winehouse, Chris Pratt, Marie Curie                                   |\n",
      "|f3b70f8d-bb74-4d96-b1f2-88e5c0c68b14|Meat Express Ltd                      |Chris Pratt, Marie Curie, Yuri Gagarin                                     |\n",
      "|34538e39-cd2e-4641-8d24-3c94146e6f16|Meat Packers Ltd                      |Chris Pratt, David Henderson, Leon Leonov, Marianov Merschik               |\n",
      "|acdb6f30-764f-404e-8b8e-7e7e3e6fa1a9|Organic Farms                         |Chris Pratt, David Henderson, Leon Leonov, Leonard Cohen                   |\n",
      "|8347edb3-c4e5-4fc1-8e0c-1fcf9f0d02b9|Organic Foods Ltd                     |Chris Pratt, Leon Leonov, Leonard Cohen                                    |\n",
      "|7d4b212e-29e5-4f2a-9b28-745a3c7f0b60|Organic Veggies Ltd                   |Ammy Winehouse, David Henderson, Leonard Cohen                             |\n",
      "|a32972e9-d9ad-4180-9b79-4d29a7d22e10|Seafood Express                       |Leonard Cohen, Yuri Gagarin                                                |\n",
      "|992c1e6e-7740-4116-9d16-7c12b9e498d3|Seafood Global Inc                    |David Henderson, Marie Curie, Yuri Gagarin                                 |\n",
      "|0b8755d4-3d28-4039-b9a7-b30cb5ff02ea|Seafood Network Ltd                   |Ammy Winehouse, David Goliat, Leon Leonov                                  |\n",
      "|1c4b0b50-1d5d-463a-b56e-1a6fd3aeb7d6|Seafood Supplier                      |David Goliat, Leonard Cohen                                                |\n",
      "|2e90f2b1-d237-47a6-96e8-6d01c0d78c3e|Seafood Supplier GmbH                 |Ammy Winehouse, Leonard Cohen, Markus Söder                                |\n",
      "|6cbfd9da-14d3-4a56-b928-3a1e2c71ef83|Tropical Farms Ltd                    |David Goliat, Leonard Cohen                                                |\n",
      "|83df789a-b30c-4a1b-8e67-1f512bfa20c7|Tropical Fresh Co                     |Ammy Winehouse, David Henderson, Leonard Cohen                             |\n",
      "|5f0bdbdf-1d84-4c23-957c-8bb8c0ddc89d|Tropical Fruits Ltd                   |David Goliat, David Henderson, Yuri Gagarin                                |\n",
      "|7f80fdd9-1c1a-4ad4-9348-19e6b2b44bde|Veggie Haven Co                       |Ammy Winehouse, Chris Pratt, Leonard Cohen                                 |\n",
      "|4c0e716f-c8b1-4ad5-b612-92f5a1d6be79|Veggie Partners Ltd                   |Chris Pratt, Leon Leonov                                                   |\n",
      "|0f05a8f1-2bdf-4be7-8c82-4c9b58f04898|Veggies Inc                           |David Goliat, Leon Leonov, Leonard Cohen, Luke Skywalker                   |\n",
      "|9b31b19f-69a2-4aeb-8f6e-f4b8d2f9c12a|Veggies Unlimited                     |Ammy Winehouse, Leon Leonov                                                |\n",
      "|20dfef10-8f4e-45a1-82fc-123f4ab2a4a5|healthy snacks c.o., Healthy Snacks Co|Luke Skywalker, Marianov Merschik, Vladimir Chukov                         |\n",
      "+------------------------------------+--------------------------------------+---------------------------------------------------------------------------+\n",
      "\n"
     ]
    }
   ],
   "source": [
    "from pyspark.sql import functions as F\n",
    "\n",
    "# Step 1: Split the 'salesowners' string into a list and explode it into individual rows for each salesowner\n",
    "df_3 = orders_df \\\n",
    "    .withColumn(\"salesowners_list\", F.split(orders_df[\"salesowners\"], \",\")) \\\n",
    "    .withColumn(\"salesowners_list\", F.explode(\"salesowners_list\")) \\\n",
    "    .select(\"company_id\", \"company_name\", \"salesowners_list\") \\\n",
    "    .withColumn(\"salesowners_list\", F.trim(\"salesowners_list\")) \\\n",
    "    .distinct()  # Remove duplicate entries for the same company_id and salesowner\n",
    "\n",
    "# Step 2: Group by 'company_id' and aggregate company_name and salesowners_list\n",
    "df_3 = df_3 \\\n",
    "    .groupBy(\"company_id\") \\\n",
    "    .agg(\n",
    "        F.concat_ws(\", \", F.collect_set(\"company_name\")).alias(\"company_name\"),  # Concatenate company names, removing duplicates\n",
    "        F.collect_list(\"salesowners_list\").alias(\"salesowners_list\")  # Collect all salesowners for each company_id into a list\n",
    "    )\n",
    "\n",
    "# Step 3: Sort the salesowners_list and remove any duplicates\n",
    "df_3 = df_3 \\\n",
    "    .withColumn(\"salesowners_list\", F.array_sort(F.array_distinct(\"salesowners_list\")))  # Sort the salesowners list and remove duplicates\n",
    "\n",
    "# Step 4: Convert the salesowners_list into a comma-separated string\n",
    "df_3 = df_3 \\\n",
    "    .withColumn(\"list_salesowners\", F.concat_ws(\", \", \"salesowners_list\"))  # Concatenate the salesowners into a single string\n",
    "\n",
    "# Step 5: Select the final columns and sort the result by company_name\n",
    "df_3 = df_3 \\\n",
    "    .select(\"company_id\", \"company_name\", \"list_salesowners\") \\\n",
    "    .sort(\"company_name\")  # Sort the DataFrame by company_name in ascending order\n",
    "\n",
    "# Display the result\n",
    "df_3.show(100, truncate=False)\n"
   ]
  },
  {
   "cell_type": "code",
   "execution_count": 88,
   "metadata": {
    "application/vnd.databricks.v1+cell": {
     "cellMetadata": {
      "byteLimit": 2048000,
      "rowLimit": 10000
     },
     "inputWidgets": {},
     "nuid": "79c13e6e-d497-4d71-8ad0-e31428538128",
     "showTitle": false,
     "tableResultSettingsMap": {},
     "title": ""
    }
   },
   "outputs": [],
   "source": [
    "# Test 1: Verify that salesowners are unique for each company\n",
    "for row in df_3.collect():\n",
    "    salesowners_list = row[\"list_salesowners\"].split(\",\")  # Split the list of salesowners into individual items\n",
    "    assert len(salesowners_list) == len(set(salesowners_list)), f\"Duplicates found in the salesowner list for {row['company_name']}.\"  # Check if there are any duplicates\n",
    "\n",
    "# Test 2: Verify that the list of salesowners is sorted alphabetically\n",
    "for row in df_3.collect():\n",
    "    salesowners_list = row[\"list_salesowners\"].split(\", \")  # Split the salesowners string into a list\n",
    "    sorted_salesowners_list = sorted(salesowners_list)  # Sort the list alphabetically\n",
    "    assert salesowners_list == sorted_salesowners_list, f\"Salesowners are not sorted alphabetically for {row['company_name']}.\"  # Ensure the list is sorted\n",
    "\n",
    "# Test 3: Verify that there is no duplication of companies\n",
    "# Count the occurrences of each company_id in the DataFrame\n",
    "duplicate_companies = df_3.groupBy(\"company_id\").count().filter(\"count > 1\")  # Group by company_id and count occurrences\n",
    "\n",
    "# Verify that there are no duplicate companies\n",
    "assert duplicate_companies.count() == 0, \"Duplicate companies found in the DataFrame.\"  # Ensure no duplicates exist\n"
   ]
  }
 ],
 "metadata": {
  "application/vnd.databricks.v1+notebook": {
   "computePreferences": null,
   "dashboards": [],
   "environmentMetadata": {
    "base_environment": "",
    "client": "1"
   },
   "language": "python",
   "notebookMetadata": {
    "mostRecentlyExecutedCommandWithImplicitDF": {
     "commandId": 2952044708851430,
     "dataframes": [
      "_sqldf"
     ]
    },
    "pythonIndentUnit": 4
   },
   "notebookName": "IFCO Data Engineering Challenge",
   "widgets": {}
  },
  "kernelspec": {
   "display_name": "Python 3",
   "language": "python",
   "name": "python3"
  },
  "language_info": {
   "codemirror_mode": {
    "name": "ipython",
    "version": 3
   },
   "file_extension": ".py",
   "mimetype": "text/x-python",
   "name": "python",
   "nbconvert_exporter": "python",
   "pygments_lexer": "ipython3",
   "version": "3.12.4"
  }
 },
 "nbformat": 4,
 "nbformat_minor": 0
}
